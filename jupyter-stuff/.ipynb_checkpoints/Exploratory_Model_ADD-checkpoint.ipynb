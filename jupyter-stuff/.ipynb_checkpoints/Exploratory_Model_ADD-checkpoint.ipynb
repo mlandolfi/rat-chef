{
 "cells": [
  {
   "cell_type": "code",
   "execution_count": 1,
   "metadata": {},
   "outputs": [
    {
     "name": "stderr",
     "output_type": "stream",
     "text": [
      "\n",
      "Attaching package: ‘dplyr’\n",
      "\n",
      "The following objects are masked from ‘package:stats’:\n",
      "\n",
      "    filter, lag\n",
      "\n",
      "The following objects are masked from ‘package:base’:\n",
      "\n",
      "    intersect, setdiff, setequal, union\n",
      "\n"
     ]
    },
    {
     "data": {
      "text/html": [
       "<ol class=list-inline>\n",
       "\t<li>43861</li>\n",
       "\t<li>277</li>\n",
       "</ol>\n"
      ],
      "text/latex": [
       "\\begin{enumerate*}\n",
       "\\item 43861\n",
       "\\item 277\n",
       "\\end{enumerate*}\n"
      ],
      "text/markdown": [
       "1. 43861\n",
       "2. 277\n",
       "\n",
       "\n"
      ],
      "text/plain": [
       "[1] 43861   277"
      ]
     },
     "metadata": {},
     "output_type": "display_data"
    },
    {
     "data": {
      "text/html": [
       "<table>\n",
       "<thead><tr><th scope=col>Policy</th><th scope=col>benefitdecision</th><th scope=col>rating</th><th scope=col>reason</th><th scope=col>BenefitDecision2</th><th scope=col>alcoholunitsperweek</th><th scope=col>Avocation1</th><th scope=col>Avocation2</th><th scope=col>DivingBuddy</th><th scope=col>DivingFreq</th><th scope=col>⋯</th><th scope=col>sioheightcm</th><th scope=col>sioweightkilos</th><th scope=col>Impairment</th><th scope=col>MMCasePerLife_ClaimRecord</th><th scope=col>existingexclusion</th><th scope=col>existinganymedicalpendingcode</th><th scope=col>OC.Loading</th><th scope=col>PF.Loading</th><th scope=col>FH.Loading</th><th scope=col>CR.Loading</th></tr></thead>\n",
       "<tbody>\n",
       "\t<tr><td>5388609A05        </td><td>STANDARD          </td><td>                  </td><td>                  </td><td>STANDARD          </td><td>0                 </td><td>Diving            </td><td>#N/A              </td><td>{In a group}      </td><td>Less than 20 times</td><td>⋯                 </td><td>0                 </td><td>0                 </td><td>0                 </td><td>1                 </td><td>FALSE             </td><td>FALSE             </td><td>FALSE             </td><td>FALSE             </td><td>FALSE             </td><td>FALSE             </td></tr>\n",
       "\t<tr><td>5391362A08        </td><td>STANDARD          </td><td>                  </td><td>                  </td><td>STANDARD          </td><td>0                 </td><td>Diving            </td><td>#N/A              </td><td>{In a group}      </td><td>Less than 20 times</td><td>⋯                 </td><td>0                 </td><td>0                 </td><td>0                 </td><td>0                 </td><td>FALSE             </td><td>FALSE             </td><td>FALSE             </td><td>FALSE             </td><td>FALSE             </td><td>FALSE             </td></tr>\n",
       "\t<tr><td>5394021A02        </td><td>STANDARD          </td><td>                  </td><td>                  </td><td>STANDARD          </td><td>0                 </td><td>Diving            </td><td>#N/A              </td><td>{In a group}      </td><td>Less than 20 times</td><td>⋯                 </td><td>0                 </td><td>0                 </td><td>0                 </td><td>0                 </td><td>FALSE             </td><td>FALSE             </td><td>FALSE             </td><td>FALSE             </td><td>FALSE             </td><td>FALSE             </td></tr>\n",
       "\t<tr><td>5394708A09        </td><td>STANDARD          </td><td>                  </td><td>                  </td><td>STANDARD          </td><td>0                 </td><td>Diving            </td><td>#N/A              </td><td>{In a group}      </td><td>Less than 20 times</td><td>⋯                 </td><td>0                 </td><td>0                 </td><td>0                 </td><td>0                 </td><td>FALSE             </td><td>FALSE             </td><td>FALSE             </td><td>FALSE             </td><td>FALSE             </td><td>FALSE             </td></tr>\n",
       "\t<tr><td>5394853A10        </td><td>NOT TAKEN UP      </td><td>                  </td><td>                  </td><td>NOT TAKEN UP      </td><td>0                 </td><td>Diving            </td><td>#N/A              </td><td>{In a group}      </td><td>Less than 20 times</td><td>⋯                 </td><td>0                 </td><td>0                 </td><td>0                 </td><td>0                 </td><td>FALSE             </td><td>FALSE             </td><td>FALSE             </td><td>FALSE             </td><td>FALSE             </td><td>FALSE             </td></tr>\n",
       "\t<tr><td>5412514A05        </td><td>STANDARD          </td><td>                  </td><td>                  </td><td>STANDARD          </td><td>0                 </td><td>Diving            </td><td>#N/A              </td><td>{In a group}      </td><td>20 or more times  </td><td>⋯                 </td><td>0                 </td><td>0                 </td><td>0                 </td><td>0                 </td><td>FALSE             </td><td>FALSE             </td><td>FALSE             </td><td>FALSE             </td><td>FALSE             </td><td>FALSE             </td></tr>\n",
       "</tbody>\n",
       "</table>\n"
      ],
      "text/latex": [
       "\\begin{tabular}{r|lllllllllllllllllllllllllllllllllllllllllllllllllllllllllllllllllllllllllllllllllllllllllllllllllllllllllllllllllllllllllllllllllllllllllllllllllllllllllllllllllllllllllllllllllllllllllllllllllllllllllllllllllllllllllllllllllllllllllllllllllllllllllllllllllllllllllllllllllllll}\n",
       " Policy & benefitdecision & rating & reason & BenefitDecision2 & alcoholunitsperweek & Avocation1 & Avocation2 & DivingBuddy & DivingFreq & ⋯ & sioheightcm & sioweightkilos & Impairment & MMCasePerLife\\_ClaimRecord & existingexclusion & existinganymedicalpendingcode & OC.Loading & PF.Loading & FH.Loading & CR.Loading\\\\\n",
       "\\hline\n",
       "\t 5388609A05         & STANDARD           &                    &                    & STANDARD           & 0                  & Diving             & \\#N/A             & \\{In a group\\}   & Less than 20 times & ⋯                  & 0                  & 0                  & 0                  & 1                  & FALSE              & FALSE              & FALSE              & FALSE              & FALSE              & FALSE             \\\\\n",
       "\t 5391362A08         & STANDARD           &                    &                    & STANDARD           & 0                  & Diving             & \\#N/A             & \\{In a group\\}   & Less than 20 times & ⋯                  & 0                  & 0                  & 0                  & 0                  & FALSE              & FALSE              & FALSE              & FALSE              & FALSE              & FALSE             \\\\\n",
       "\t 5394021A02         & STANDARD           &                    &                    & STANDARD           & 0                  & Diving             & \\#N/A             & \\{In a group\\}   & Less than 20 times & ⋯                  & 0                  & 0                  & 0                  & 0                  & FALSE              & FALSE              & FALSE              & FALSE              & FALSE              & FALSE             \\\\\n",
       "\t 5394708A09         & STANDARD           &                    &                    & STANDARD           & 0                  & Diving             & \\#N/A             & \\{In a group\\}   & Less than 20 times & ⋯                  & 0                  & 0                  & 0                  & 0                  & FALSE              & FALSE              & FALSE              & FALSE              & FALSE              & FALSE             \\\\\n",
       "\t 5394853A10         & NOT TAKEN UP       &                    &                    & NOT TAKEN UP       & 0                  & Diving             & \\#N/A             & \\{In a group\\}   & Less than 20 times & ⋯                  & 0                  & 0                  & 0                  & 0                  & FALSE              & FALSE              & FALSE              & FALSE              & FALSE              & FALSE             \\\\\n",
       "\t 5412514A05         & STANDARD           &                    &                    & STANDARD           & 0                  & Diving             & \\#N/A             & \\{In a group\\}   & 20 or more times   & ⋯                  & 0                  & 0                  & 0                  & 0                  & FALSE              & FALSE              & FALSE              & FALSE              & FALSE              & FALSE             \\\\\n",
       "\\end{tabular}\n"
      ],
      "text/markdown": [
       "\n",
       "Policy | benefitdecision | rating | reason | BenefitDecision2 | alcoholunitsperweek | Avocation1 | Avocation2 | DivingBuddy | DivingFreq | ⋯ | sioheightcm | sioweightkilos | Impairment | MMCasePerLife_ClaimRecord | existingexclusion | existinganymedicalpendingcode | OC.Loading | PF.Loading | FH.Loading | CR.Loading | \n",
       "|---|---|---|---|---|---|\n",
       "| 5388609A05         | STANDARD           |                    |                    | STANDARD           | 0                  | Diving             | #N/A               | {In a group}       | Less than 20 times | ⋯                  | 0                  | 0                  | 0                  | 1                  | FALSE              | FALSE              | FALSE              | FALSE              | FALSE              | FALSE              | \n",
       "| 5391362A08         | STANDARD           |                    |                    | STANDARD           | 0                  | Diving             | #N/A               | {In a group}       | Less than 20 times | ⋯                  | 0                  | 0                  | 0                  | 0                  | FALSE              | FALSE              | FALSE              | FALSE              | FALSE              | FALSE              | \n",
       "| 5394021A02         | STANDARD           |                    |                    | STANDARD           | 0                  | Diving             | #N/A               | {In a group}       | Less than 20 times | ⋯                  | 0                  | 0                  | 0                  | 0                  | FALSE              | FALSE              | FALSE              | FALSE              | FALSE              | FALSE              | \n",
       "| 5394708A09         | STANDARD           |                    |                    | STANDARD           | 0                  | Diving             | #N/A               | {In a group}       | Less than 20 times | ⋯                  | 0                  | 0                  | 0                  | 0                  | FALSE              | FALSE              | FALSE              | FALSE              | FALSE              | FALSE              | \n",
       "| 5394853A10         | NOT TAKEN UP       |                    |                    | NOT TAKEN UP       | 0                  | Diving             | #N/A               | {In a group}       | Less than 20 times | ⋯                  | 0                  | 0                  | 0                  | 0                  | FALSE              | FALSE              | FALSE              | FALSE              | FALSE              | FALSE              | \n",
       "| 5412514A05         | STANDARD           |                    |                    | STANDARD           | 0                  | Diving             | #N/A               | {In a group}       | 20 or more times   | ⋯                  | 0                  | 0                  | 0                  | 0                  | FALSE              | FALSE              | FALSE              | FALSE              | FALSE              | FALSE              | \n",
       "\n",
       "\n"
      ],
      "text/plain": [
       "  Policy     benefitdecision rating reason BenefitDecision2 alcoholunitsperweek\n",
       "1 5388609A05 STANDARD                      STANDARD         0                  \n",
       "2 5391362A08 STANDARD                      STANDARD         0                  \n",
       "3 5394021A02 STANDARD                      STANDARD         0                  \n",
       "4 5394708A09 STANDARD                      STANDARD         0                  \n",
       "5 5394853A10 NOT TAKEN UP                  NOT TAKEN UP     0                  \n",
       "6 5412514A05 STANDARD                      STANDARD         0                  \n",
       "  Avocation1 Avocation2 DivingBuddy  DivingFreq         ⋯ sioheightcm\n",
       "1 Diving     #N/A       {In a group} Less than 20 times ⋯ 0          \n",
       "2 Diving     #N/A       {In a group} Less than 20 times ⋯ 0          \n",
       "3 Diving     #N/A       {In a group} Less than 20 times ⋯ 0          \n",
       "4 Diving     #N/A       {In a group} Less than 20 times ⋯ 0          \n",
       "5 Diving     #N/A       {In a group} Less than 20 times ⋯ 0          \n",
       "6 Diving     #N/A       {In a group} 20 or more times   ⋯ 0          \n",
       "  sioweightkilos Impairment MMCasePerLife_ClaimRecord existingexclusion\n",
       "1 0              0          1                         FALSE            \n",
       "2 0              0          0                         FALSE            \n",
       "3 0              0          0                         FALSE            \n",
       "4 0              0          0                         FALSE            \n",
       "5 0              0          0                         FALSE            \n",
       "6 0              0          0                         FALSE            \n",
       "  existinganymedicalpendingcode OC.Loading PF.Loading FH.Loading CR.Loading\n",
       "1 FALSE                         FALSE      FALSE      FALSE      FALSE     \n",
       "2 FALSE                         FALSE      FALSE      FALSE      FALSE     \n",
       "3 FALSE                         FALSE      FALSE      FALSE      FALSE     \n",
       "4 FALSE                         FALSE      FALSE      FALSE      FALSE     \n",
       "5 FALSE                         FALSE      FALSE      FALSE      FALSE     \n",
       "6 FALSE                         FALSE      FALSE      FALSE      FALSE     "
      ]
     },
     "metadata": {},
     "output_type": "display_data"
    },
    {
     "data": {
      "text/html": [
       "<table>\n",
       "<thead><tr><th></th><th scope=col>Policy</th><th scope=col>benefitdecision</th><th scope=col>rating</th><th scope=col>reason</th><th scope=col>BenefitDecision2</th><th scope=col>alcoholunitsperweek</th><th scope=col>Avocation1</th><th scope=col>Avocation2</th><th scope=col>DivingBuddy</th><th scope=col>DivingFreq</th><th scope=col>⋯</th><th scope=col>sioheightcm</th><th scope=col>sioweightkilos</th><th scope=col>Impairment</th><th scope=col>MMCasePerLife_ClaimRecord</th><th scope=col>existingexclusion</th><th scope=col>existinganymedicalpendingcode</th><th scope=col>OC.Loading</th><th scope=col>PF.Loading</th><th scope=col>FH.Loading</th><th scope=col>CR.Loading</th></tr></thead>\n",
       "<tbody>\n",
       "\t<tr><th scope=row>43856</th><td>S117408A02  </td><td>STANDARD    </td><td>            </td><td>            </td><td>STANDARD    </td><td>0           </td><td>#N/A        </td><td>#N/A        </td><td>#N/A        </td><td>#N/A        </td><td>⋯           </td><td>0           </td><td>0           </td><td>0           </td><td>0           </td><td>FALSE       </td><td>FALSE       </td><td>FALSE       </td><td>FALSE       </td><td>FALSE       </td><td>FALSE       </td></tr>\n",
       "\t<tr><th scope=row>43857</th><td>S117409A10  </td><td>NOT TAKEN UP</td><td>            </td><td>            </td><td>NOT TAKEN UP</td><td>0           </td><td>#N/A        </td><td>#N/A        </td><td>#N/A        </td><td>#N/A        </td><td>⋯           </td><td>0           </td><td>0           </td><td>0           </td><td>0           </td><td>FALSE       </td><td>FALSE       </td><td>FALSE       </td><td>FALSE       </td><td>FALSE       </td><td>FALSE       </td></tr>\n",
       "\t<tr><th scope=row>43858</th><td>S117410A00  </td><td>WITHDRAW    </td><td>            </td><td>            </td><td>WITHDRAW    </td><td>0           </td><td>#N/A        </td><td>#N/A        </td><td>#N/A        </td><td>#N/A        </td><td>⋯           </td><td>0           </td><td>0           </td><td>0           </td><td>0           </td><td>FALSE       </td><td>FALSE       </td><td>FALSE       </td><td>FALSE       </td><td>FALSE       </td><td>FALSE       </td></tr>\n",
       "\t<tr><th scope=row>43859</th><td>S117412A05  </td><td>STANDARD    </td><td>            </td><td>            </td><td>STANDARD    </td><td>0           </td><td>#N/A        </td><td>#N/A        </td><td>#N/A        </td><td>#N/A        </td><td>⋯           </td><td>0           </td><td>0           </td><td>0           </td><td>0           </td><td>FALSE       </td><td>FALSE       </td><td>FALSE       </td><td>FALSE       </td><td>FALSE       </td><td>FALSE       </td></tr>\n",
       "\t<tr><th scope=row>43860</th><td>S117423A09  </td><td>STANDARD    </td><td>            </td><td>            </td><td>STANDARD    </td><td>0           </td><td>#N/A        </td><td>#N/A        </td><td>#N/A        </td><td>#N/A        </td><td>⋯           </td><td>0           </td><td>0           </td><td>0           </td><td>0           </td><td>FALSE       </td><td>FALSE       </td><td>FALSE       </td><td>FALSE       </td><td>FALSE       </td><td>FALSE       </td></tr>\n",
       "\t<tr><th scope=row>43861</th><td>S117424A06  </td><td>NOT TAKEN UP</td><td>            </td><td>            </td><td>NOT TAKEN UP</td><td>0           </td><td>#N/A        </td><td>#N/A        </td><td>#N/A        </td><td>#N/A        </td><td>⋯           </td><td>0           </td><td>0           </td><td>0           </td><td>0           </td><td>FALSE       </td><td>FALSE       </td><td>FALSE       </td><td>FALSE       </td><td>FALSE       </td><td>FALSE       </td></tr>\n",
       "</tbody>\n",
       "</table>\n"
      ],
      "text/latex": [
       "\\begin{tabular}{r|lllllllllllllllllllllllllllllllllllllllllllllllllllllllllllllllllllllllllllllllllllllllllllllllllllllllllllllllllllllllllllllllllllllllllllllllllllllllllllllllllllllllllllllllllllllllllllllllllllllllllllllllllllllllllllllllllllllllllllllllllllllllllllllllllllllllllllllllllllll}\n",
       "  & Policy & benefitdecision & rating & reason & BenefitDecision2 & alcoholunitsperweek & Avocation1 & Avocation2 & DivingBuddy & DivingFreq & ⋯ & sioheightcm & sioweightkilos & Impairment & MMCasePerLife\\_ClaimRecord & existingexclusion & existinganymedicalpendingcode & OC.Loading & PF.Loading & FH.Loading & CR.Loading\\\\\n",
       "\\hline\n",
       "\t43856 & S117408A02   & STANDARD     &              &              & STANDARD     & 0            & \\#N/A       & \\#N/A       & \\#N/A       & \\#N/A       & ⋯            & 0            & 0            & 0            & 0            & FALSE        & FALSE        & FALSE        & FALSE        & FALSE        & FALSE       \\\\\n",
       "\t43857 & S117409A10   & NOT TAKEN UP &              &              & NOT TAKEN UP & 0            & \\#N/A       & \\#N/A       & \\#N/A       & \\#N/A       & ⋯            & 0            & 0            & 0            & 0            & FALSE        & FALSE        & FALSE        & FALSE        & FALSE        & FALSE       \\\\\n",
       "\t43858 & S117410A00   & WITHDRAW     &              &              & WITHDRAW     & 0            & \\#N/A       & \\#N/A       & \\#N/A       & \\#N/A       & ⋯            & 0            & 0            & 0            & 0            & FALSE        & FALSE        & FALSE        & FALSE        & FALSE        & FALSE       \\\\\n",
       "\t43859 & S117412A05   & STANDARD     &              &              & STANDARD     & 0            & \\#N/A       & \\#N/A       & \\#N/A       & \\#N/A       & ⋯            & 0            & 0            & 0            & 0            & FALSE        & FALSE        & FALSE        & FALSE        & FALSE        & FALSE       \\\\\n",
       "\t43860 & S117423A09   & STANDARD     &              &              & STANDARD     & 0            & \\#N/A       & \\#N/A       & \\#N/A       & \\#N/A       & ⋯            & 0            & 0            & 0            & 0            & FALSE        & FALSE        & FALSE        & FALSE        & FALSE        & FALSE       \\\\\n",
       "\t43861 & S117424A06   & NOT TAKEN UP &              &              & NOT TAKEN UP & 0            & \\#N/A       & \\#N/A       & \\#N/A       & \\#N/A       & ⋯            & 0            & 0            & 0            & 0            & FALSE        & FALSE        & FALSE        & FALSE        & FALSE        & FALSE       \\\\\n",
       "\\end{tabular}\n"
      ],
      "text/markdown": [
       "\n",
       "| <!--/--> | Policy | benefitdecision | rating | reason | BenefitDecision2 | alcoholunitsperweek | Avocation1 | Avocation2 | DivingBuddy | DivingFreq | ⋯ | sioheightcm | sioweightkilos | Impairment | MMCasePerLife_ClaimRecord | existingexclusion | existinganymedicalpendingcode | OC.Loading | PF.Loading | FH.Loading | CR.Loading | \n",
       "|---|---|---|---|---|---|\n",
       "| 43856 | S117408A02   | STANDARD     |              |              | STANDARD     | 0            | #N/A         | #N/A         | #N/A         | #N/A         | ⋯            | 0            | 0            | 0            | 0            | FALSE        | FALSE        | FALSE        | FALSE        | FALSE        | FALSE        | \n",
       "| 43857 | S117409A10   | NOT TAKEN UP |              |              | NOT TAKEN UP | 0            | #N/A         | #N/A         | #N/A         | #N/A         | ⋯            | 0            | 0            | 0            | 0            | FALSE        | FALSE        | FALSE        | FALSE        | FALSE        | FALSE        | \n",
       "| 43858 | S117410A00   | WITHDRAW     |              |              | WITHDRAW     | 0            | #N/A         | #N/A         | #N/A         | #N/A         | ⋯            | 0            | 0            | 0            | 0            | FALSE        | FALSE        | FALSE        | FALSE        | FALSE        | FALSE        | \n",
       "| 43859 | S117412A05   | STANDARD     |              |              | STANDARD     | 0            | #N/A         | #N/A         | #N/A         | #N/A         | ⋯            | 0            | 0            | 0            | 0            | FALSE        | FALSE        | FALSE        | FALSE        | FALSE        | FALSE        | \n",
       "| 43860 | S117423A09   | STANDARD     |              |              | STANDARD     | 0            | #N/A         | #N/A         | #N/A         | #N/A         | ⋯            | 0            | 0            | 0            | 0            | FALSE        | FALSE        | FALSE        | FALSE        | FALSE        | FALSE        | \n",
       "| 43861 | S117424A06   | NOT TAKEN UP |              |              | NOT TAKEN UP | 0            | #N/A         | #N/A         | #N/A         | #N/A         | ⋯            | 0            | 0            | 0            | 0            | FALSE        | FALSE        | FALSE        | FALSE        | FALSE        | FALSE        | \n",
       "\n",
       "\n"
      ],
      "text/plain": [
       "      Policy     benefitdecision rating reason BenefitDecision2\n",
       "43856 S117408A02 STANDARD                      STANDARD        \n",
       "43857 S117409A10 NOT TAKEN UP                  NOT TAKEN UP    \n",
       "43858 S117410A00 WITHDRAW                      WITHDRAW        \n",
       "43859 S117412A05 STANDARD                      STANDARD        \n",
       "43860 S117423A09 STANDARD                      STANDARD        \n",
       "43861 S117424A06 NOT TAKEN UP                  NOT TAKEN UP    \n",
       "      alcoholunitsperweek Avocation1 Avocation2 DivingBuddy DivingFreq ⋯\n",
       "43856 0                   #N/A       #N/A       #N/A        #N/A       ⋯\n",
       "43857 0                   #N/A       #N/A       #N/A        #N/A       ⋯\n",
       "43858 0                   #N/A       #N/A       #N/A        #N/A       ⋯\n",
       "43859 0                   #N/A       #N/A       #N/A        #N/A       ⋯\n",
       "43860 0                   #N/A       #N/A       #N/A        #N/A       ⋯\n",
       "43861 0                   #N/A       #N/A       #N/A        #N/A       ⋯\n",
       "      sioheightcm sioweightkilos Impairment MMCasePerLife_ClaimRecord\n",
       "43856 0           0              0          0                        \n",
       "43857 0           0              0          0                        \n",
       "43858 0           0              0          0                        \n",
       "43859 0           0              0          0                        \n",
       "43860 0           0              0          0                        \n",
       "43861 0           0              0          0                        \n",
       "      existingexclusion existinganymedicalpendingcode OC.Loading PF.Loading\n",
       "43856 FALSE             FALSE                         FALSE      FALSE     \n",
       "43857 FALSE             FALSE                         FALSE      FALSE     \n",
       "43858 FALSE             FALSE                         FALSE      FALSE     \n",
       "43859 FALSE             FALSE                         FALSE      FALSE     \n",
       "43860 FALSE             FALSE                         FALSE      FALSE     \n",
       "43861 FALSE             FALSE                         FALSE      FALSE     \n",
       "      FH.Loading CR.Loading\n",
       "43856 FALSE      FALSE     \n",
       "43857 FALSE      FALSE     \n",
       "43858 FALSE      FALSE     \n",
       "43859 FALSE      FALSE     \n",
       "43860 FALSE      FALSE     \n",
       "43861 FALSE      FALSE     "
      ]
     },
     "metadata": {},
     "output_type": "display_data"
    }
   ],
   "source": [
    "setwd(\"~/Documents/shared\")\n",
    "library(dplyr)\n",
    "ADD_DF <- read.csv(\"MMFinalDecision_ADD_FULL_cut.csv\",header=T,sep=\",\")\n",
    "ADD_DF <- ADD_DF[ADD_DF$Avocation1 != \"\",]\n",
    "ADD_DF <- ADD_DF[,colSums(is.na(ADD_DF))<nrow(ADD_DF)]\n",
    "dim(ADD_DF)\n",
    "head(ADD_DF)\n",
    "tail(ADD_DF)"
   ]
  },
  {
   "cell_type": "code",
   "execution_count": 11,
   "metadata": {},
   "outputs": [
    {
     "data": {
      "text/html": [
       "<ol class=list-inline>\n",
       "\t<li>40804</li>\n",
       "\t<li>278</li>\n",
       "</ol>\n"
      ],
      "text/latex": [
       "\\begin{enumerate*}\n",
       "\\item 40804\n",
       "\\item 278\n",
       "\\end{enumerate*}\n"
      ],
      "text/markdown": [
       "1. 40804\n",
       "2. 278\n",
       "\n",
       "\n"
      ],
      "text/plain": [
       "[1] 40804   278"
      ]
     },
     "metadata": {},
     "output_type": "display_data"
    },
    {
     "data": {
      "text/html": [
       "<ol class=list-inline>\n",
       "\t<li>24075</li>\n",
       "\t<li>4</li>\n",
       "</ol>\n"
      ],
      "text/latex": [
       "\\begin{enumerate*}\n",
       "\\item 24075\n",
       "\\item 4\n",
       "\\end{enumerate*}\n"
      ],
      "text/markdown": [
       "1. 24075\n",
       "2. 4\n",
       "\n",
       "\n"
      ],
      "text/plain": [
       "[1] 24075     4"
      ]
     },
     "metadata": {},
     "output_type": "display_data"
    },
    {
     "data": {
      "text/html": [
       "<ol class=list-inline>\n",
       "\t<li>33632</li>\n",
       "\t<li>4</li>\n",
       "</ol>\n"
      ],
      "text/latex": [
       "\\begin{enumerate*}\n",
       "\\item 33632\n",
       "\\item 4\n",
       "\\end{enumerate*}\n"
      ],
      "text/markdown": [
       "1. 33632\n",
       "2. 4\n",
       "\n",
       "\n"
      ],
      "text/plain": [
       "[1] 33632     4"
      ]
     },
     "metadata": {},
     "output_type": "display_data"
    },
    {
     "data": {
      "text/html": [
       "<ol class=list-inline>\n",
       "\t<li>69339</li>\n",
       "\t<li>1</li>\n",
       "</ol>\n"
      ],
      "text/latex": [
       "\\begin{enumerate*}\n",
       "\\item 69339\n",
       "\\item 1\n",
       "\\end{enumerate*}\n"
      ],
      "text/markdown": [
       "1. 69339\n",
       "2. 1\n",
       "\n",
       "\n"
      ],
      "text/plain": [
       "[1] 69339     1"
      ]
     },
     "metadata": {},
     "output_type": "display_data"
    },
    {
     "data": {
      "text/html": [
       "<table>\n",
       "<thead><tr><th scope=col>Policy</th><th scope=col>Impairment_High</th><th scope=col>Impairment_Low</th><th scope=col>Impairment_Medium</th></tr></thead>\n",
       "<tbody>\n",
       "\t<tr><td>5144536A08</td><td>1         </td><td>0         </td><td>1         </td></tr>\n",
       "\t<tr><td>5144546A04</td><td>0         </td><td>1         </td><td>1         </td></tr>\n",
       "\t<tr><td>5144564A02</td><td>1         </td><td>0         </td><td>0         </td></tr>\n",
       "\t<tr><td>5144644A05</td><td>0         </td><td>1         </td><td>0         </td></tr>\n",
       "\t<tr><td>5144676A09</td><td>1         </td><td>0         </td><td>0         </td></tr>\n",
       "\t<tr><td>5144724A08</td><td>1         </td><td>0         </td><td>1         </td></tr>\n",
       "</tbody>\n",
       "</table>\n"
      ],
      "text/latex": [
       "\\begin{tabular}{r|llll}\n",
       " Policy & Impairment\\_High & Impairment\\_Low & Impairment\\_Medium\\\\\n",
       "\\hline\n",
       "\t 5144536A08 & 1          & 0          & 1         \\\\\n",
       "\t 5144546A04 & 0          & 1          & 1         \\\\\n",
       "\t 5144564A02 & 1          & 0          & 0         \\\\\n",
       "\t 5144644A05 & 0          & 1          & 0         \\\\\n",
       "\t 5144676A09 & 1          & 0          & 0         \\\\\n",
       "\t 5144724A08 & 1          & 0          & 1         \\\\\n",
       "\\end{tabular}\n"
      ],
      "text/markdown": [
       "\n",
       "Policy | Impairment_High | Impairment_Low | Impairment_Medium | \n",
       "|---|---|---|---|---|---|\n",
       "| 5144536A08 | 1          | 0          | 1          | \n",
       "| 5144546A04 | 0          | 1          | 1          | \n",
       "| 5144564A02 | 1          | 0          | 0          | \n",
       "| 5144644A05 | 0          | 1          | 0          | \n",
       "| 5144676A09 | 1          | 0          | 0          | \n",
       "| 5144724A08 | 1          | 0          | 1          | \n",
       "\n",
       "\n"
      ],
      "text/plain": [
       "  Policy     Impairment_High Impairment_Low Impairment_Medium\n",
       "1 5144536A08 1               0              1                \n",
       "2 5144546A04 0               1              1                \n",
       "3 5144564A02 1               0              0                \n",
       "4 5144644A05 0               1              0                \n",
       "5 5144676A09 1               0              0                \n",
       "6 5144724A08 1               0              1                "
      ]
     },
     "metadata": {},
     "output_type": "display_data"
    },
    {
     "data": {
      "text/html": [
       "<table>\n",
       "<thead><tr><th scope=col>Policy</th><th scope=col>Claim_High</th><th scope=col>Claim_Low</th><th scope=col>Claim_Medium</th></tr></thead>\n",
       "<tbody>\n",
       "\t<tr><td>5144536A08</td><td>0         </td><td>1         </td><td>0         </td></tr>\n",
       "\t<tr><td>5144546A04</td><td>1         </td><td>4         </td><td>2         </td></tr>\n",
       "\t<tr><td>5144564A02</td><td>1         </td><td>0         </td><td>3         </td></tr>\n",
       "\t<tr><td>5144583A08</td><td>0         </td><td>0         </td><td>2         </td></tr>\n",
       "\t<tr><td>5144594A01</td><td>1         </td><td>0         </td><td>0         </td></tr>\n",
       "\t<tr><td>5144629A09</td><td>2         </td><td>1         </td><td>0         </td></tr>\n",
       "</tbody>\n",
       "</table>\n"
      ],
      "text/latex": [
       "\\begin{tabular}{r|llll}\n",
       " Policy & Claim\\_High & Claim\\_Low & Claim\\_Medium\\\\\n",
       "\\hline\n",
       "\t 5144536A08 & 0          & 1          & 0         \\\\\n",
       "\t 5144546A04 & 1          & 4          & 2         \\\\\n",
       "\t 5144564A02 & 1          & 0          & 3         \\\\\n",
       "\t 5144583A08 & 0          & 0          & 2         \\\\\n",
       "\t 5144594A01 & 1          & 0          & 0         \\\\\n",
       "\t 5144629A09 & 2          & 1          & 0         \\\\\n",
       "\\end{tabular}\n"
      ],
      "text/markdown": [
       "\n",
       "Policy | Claim_High | Claim_Low | Claim_Medium | \n",
       "|---|---|---|---|---|---|\n",
       "| 5144536A08 | 0          | 1          | 0          | \n",
       "| 5144546A04 | 1          | 4          | 2          | \n",
       "| 5144564A02 | 1          | 0          | 3          | \n",
       "| 5144583A08 | 0          | 0          | 2          | \n",
       "| 5144594A01 | 1          | 0          | 0          | \n",
       "| 5144629A09 | 2          | 1          | 0          | \n",
       "\n",
       "\n"
      ],
      "text/plain": [
       "  Policy     Claim_High Claim_Low Claim_Medium\n",
       "1 5144536A08 0          1         0           \n",
       "2 5144546A04 1          4         2           \n",
       "3 5144564A02 1          0         3           \n",
       "4 5144583A08 0          0         2           \n",
       "5 5144594A01 1          0         0           \n",
       "6 5144629A09 2          1         0           "
      ]
     },
     "metadata": {},
     "output_type": "display_data"
    },
    {
     "data": {
      "text/html": [
       "<table>\n",
       "<thead><tr><th scope=col>Policy</th></tr></thead>\n",
       "<tbody>\n",
       "\t<tr><td>5154885A02</td></tr>\n",
       "\t<tr><td>PA09728004</td></tr>\n",
       "\t<tr><td>5154891A10</td></tr>\n",
       "\t<tr><td>PA09727007</td></tr>\n",
       "\t<tr><td>5144583A08</td></tr>\n",
       "\t<tr><td>5144527A09</td></tr>\n",
       "</tbody>\n",
       "</table>\n"
      ],
      "text/latex": [
       "\\begin{tabular}{r|l}\n",
       " Policy\\\\\n",
       "\\hline\n",
       "\t 5154885A02\\\\\n",
       "\t PA09728004\\\\\n",
       "\t 5154891A10\\\\\n",
       "\t PA09727007\\\\\n",
       "\t 5144583A08\\\\\n",
       "\t 5144527A09\\\\\n",
       "\\end{tabular}\n"
      ],
      "text/markdown": [
       "\n",
       "Policy | \n",
       "|---|---|---|---|---|---|\n",
       "| 5154885A02 | \n",
       "| PA09728004 | \n",
       "| 5154891A10 | \n",
       "| PA09727007 | \n",
       "| 5144583A08 | \n",
       "| 5144527A09 | \n",
       "\n",
       "\n"
      ],
      "text/plain": [
       "  Policy    \n",
       "1 5154885A02\n",
       "2 PA09728004\n",
       "3 5154891A10\n",
       "4 PA09727007\n",
       "5 5144583A08\n",
       "6 5144527A09"
      ]
     },
     "metadata": {},
     "output_type": "display_data"
    },
    {
     "data": {
      "text/html": [
       "<ol class=list-inline>\n",
       "\t<li>7483</li>\n",
       "\t<li>278</li>\n",
       "</ol>\n"
      ],
      "text/latex": [
       "\\begin{enumerate*}\n",
       "\\item 7483\n",
       "\\item 278\n",
       "\\end{enumerate*}\n"
      ],
      "text/markdown": [
       "1. 7483\n",
       "2. 278\n",
       "\n",
       "\n"
      ],
      "text/plain": [
       "[1] 7483  278"
      ]
     },
     "metadata": {},
     "output_type": "display_data"
    },
    {
     "name": "stderr",
     "output_type": "stream",
     "text": [
      "Warning message in left_join_impl(x, y, by$x, by$y, suffix$x, suffix$y):\n",
      "“joining factors with different levels, coercing to character vector”"
     ]
    },
    {
     "data": {
      "text/html": [
       "<ol class=list-inline>\n",
       "\t<li>7483</li>\n",
       "\t<li>281</li>\n",
       "</ol>\n"
      ],
      "text/latex": [
       "\\begin{enumerate*}\n",
       "\\item 7483\n",
       "\\item 281\n",
       "\\end{enumerate*}\n"
      ],
      "text/markdown": [
       "1. 7483\n",
       "2. 281\n",
       "\n",
       "\n"
      ],
      "text/plain": [
       "[1] 7483  281"
      ]
     },
     "metadata": {},
     "output_type": "display_data"
    },
    {
     "name": "stderr",
     "output_type": "stream",
     "text": [
      "Warning message in left_join_impl(x, y, by$x, by$y, suffix$x, suffix$y):\n",
      "“joining factor and character vector, coercing into character vector”"
     ]
    },
    {
     "data": {
      "text/html": [
       "<ol class=list-inline>\n",
       "\t<li>7483</li>\n",
       "\t<li>284</li>\n",
       "</ol>\n"
      ],
      "text/latex": [
       "\\begin{enumerate*}\n",
       "\\item 7483\n",
       "\\item 284\n",
       "\\end{enumerate*}\n"
      ],
      "text/markdown": [
       "1. 7483\n",
       "2. 284\n",
       "\n",
       "\n"
      ],
      "text/plain": [
       "[1] 7483  284"
      ]
     },
     "metadata": {},
     "output_type": "display_data"
    },
    {
     "data": {
      "text/html": [
       "<table>\n",
       "<thead><tr><th scope=col>Policy</th><th scope=col>benefitdecision</th><th scope=col>rating</th><th scope=col>reason</th><th scope=col>BenefitDecision2</th><th scope=col>alcoholunitsperweek</th><th scope=col>Avocation1</th><th scope=col>Avocation2</th><th scope=col>DivingBuddy</th><th scope=col>DivingFreq</th><th scope=col>⋯</th><th scope=col>PF.Loading</th><th scope=col>FH.Loading</th><th scope=col>CR.Loading</th><th scope=col>Label</th><th scope=col>Impairment_High</th><th scope=col>Impairment_Low</th><th scope=col>Impairment_Medium</th><th scope=col>Claim_High</th><th scope=col>Claim_Low</th><th scope=col>Claim_Medium</th></tr></thead>\n",
       "<tbody>\n",
       "\t<tr><td>5144709A01  </td><td>STANDARD    </td><td>            </td><td>            </td><td>STANDARD    </td><td>0           </td><td>#N/A        </td><td>#N/A        </td><td>#N/A        </td><td>#N/A        </td><td>⋯           </td><td>FALSE       </td><td>FALSE       </td><td>FALSE       </td><td>STANDARD    </td><td>NA          </td><td>NA          </td><td>NA          </td><td> 0          </td><td> 2          </td><td> 0          </td></tr>\n",
       "\t<tr><td>5144853A05  </td><td>STANDARD    </td><td>            </td><td>            </td><td>STANDARD    </td><td>0           </td><td>#N/A        </td><td>#N/A        </td><td>#N/A        </td><td>#N/A        </td><td>⋯           </td><td>FALSE       </td><td>FALSE       </td><td>FALSE       </td><td>STANDARD    </td><td> 1          </td><td> 0          </td><td> 0          </td><td>NA          </td><td>NA          </td><td>NA          </td></tr>\n",
       "\t<tr><td>5144904A06  </td><td>STANDARD    </td><td>            </td><td>            </td><td>STANDARD    </td><td>0           </td><td>#N/A        </td><td>#N/A        </td><td>#N/A        </td><td>#N/A        </td><td>⋯           </td><td>FALSE       </td><td>FALSE       </td><td>FALSE       </td><td>STANDARD    </td><td>NA          </td><td>NA          </td><td>NA          </td><td>NA          </td><td>NA          </td><td>NA          </td></tr>\n",
       "\t<tr><td>5144963A07  </td><td>STANDARD    </td><td>            </td><td>            </td><td>STANDARD    </td><td>0           </td><td>#N/A        </td><td>#N/A        </td><td>#N/A        </td><td>#N/A        </td><td>⋯           </td><td>FALSE       </td><td>FALSE       </td><td>FALSE       </td><td>STANDARD    </td><td>NA          </td><td>NA          </td><td>NA          </td><td>NA          </td><td>NA          </td><td>NA          </td></tr>\n",
       "\t<tr><td>5145195A01  </td><td>EXCLUSION   </td><td>            </td><td>            </td><td>EXCLUSION   </td><td>0           </td><td>#N/A        </td><td>#N/A        </td><td>#N/A        </td><td>#N/A        </td><td>⋯           </td><td>FALSE       </td><td>FALSE       </td><td>FALSE       </td><td>Non-Standard</td><td>NA          </td><td>NA          </td><td>NA          </td><td>NA          </td><td>NA          </td><td>NA          </td></tr>\n",
       "\t<tr><td>5145292A05  </td><td>STANDARD    </td><td>            </td><td>            </td><td>STANDARD    </td><td>0           </td><td>#N/A        </td><td>#N/A        </td><td>#N/A        </td><td>#N/A        </td><td>⋯           </td><td>FALSE       </td><td>FALSE       </td><td>FALSE       </td><td>STANDARD    </td><td>NA          </td><td>NA          </td><td>NA          </td><td>NA          </td><td>NA          </td><td>NA          </td></tr>\n",
       "</tbody>\n",
       "</table>\n"
      ],
      "text/latex": [
       "\\begin{tabular}{r|llllllllllllllllllllllllllllllllllllllllllllllllllllllllllllllllllllllllllllllllllllllllllllllllllllllllllllllllllllllllllllllllllllllllllllllllllllllllllllllllllllllllllllllllllllllllllllllllllllllllllllllllllllllllllllllllllllllllllllllllllllllllllllllllllllllllllllllllllllllllllll}\n",
       " Policy & benefitdecision & rating & reason & BenefitDecision2 & alcoholunitsperweek & Avocation1 & Avocation2 & DivingBuddy & DivingFreq & ⋯ & PF.Loading & FH.Loading & CR.Loading & Label & Impairment\\_High & Impairment\\_Low & Impairment\\_Medium & Claim\\_High & Claim\\_Low & Claim\\_Medium\\\\\n",
       "\\hline\n",
       "\t 5144709A01   & STANDARD     &              &              & STANDARD     & 0            & \\#N/A       & \\#N/A       & \\#N/A       & \\#N/A       & ⋯            & FALSE        & FALSE        & FALSE        & STANDARD     & NA           & NA           & NA           &  0           &  2           &  0          \\\\\n",
       "\t 5144853A05   & STANDARD     &              &              & STANDARD     & 0            & \\#N/A       & \\#N/A       & \\#N/A       & \\#N/A       & ⋯            & FALSE        & FALSE        & FALSE        & STANDARD     &  1           &  0           &  0           & NA           & NA           & NA          \\\\\n",
       "\t 5144904A06   & STANDARD     &              &              & STANDARD     & 0            & \\#N/A       & \\#N/A       & \\#N/A       & \\#N/A       & ⋯            & FALSE        & FALSE        & FALSE        & STANDARD     & NA           & NA           & NA           & NA           & NA           & NA          \\\\\n",
       "\t 5144963A07   & STANDARD     &              &              & STANDARD     & 0            & \\#N/A       & \\#N/A       & \\#N/A       & \\#N/A       & ⋯            & FALSE        & FALSE        & FALSE        & STANDARD     & NA           & NA           & NA           & NA           & NA           & NA          \\\\\n",
       "\t 5145195A01   & EXCLUSION    &              &              & EXCLUSION    & 0            & \\#N/A       & \\#N/A       & \\#N/A       & \\#N/A       & ⋯            & FALSE        & FALSE        & FALSE        & Non-Standard & NA           & NA           & NA           & NA           & NA           & NA          \\\\\n",
       "\t 5145292A05   & STANDARD     &              &              & STANDARD     & 0            & \\#N/A       & \\#N/A       & \\#N/A       & \\#N/A       & ⋯            & FALSE        & FALSE        & FALSE        & STANDARD     & NA           & NA           & NA           & NA           & NA           & NA          \\\\\n",
       "\\end{tabular}\n"
      ],
      "text/markdown": [
       "\n",
       "Policy | benefitdecision | rating | reason | BenefitDecision2 | alcoholunitsperweek | Avocation1 | Avocation2 | DivingBuddy | DivingFreq | ⋯ | PF.Loading | FH.Loading | CR.Loading | Label | Impairment_High | Impairment_Low | Impairment_Medium | Claim_High | Claim_Low | Claim_Medium | \n",
       "|---|---|---|---|---|---|\n",
       "| 5144709A01   | STANDARD     |              |              | STANDARD     | 0            | #N/A         | #N/A         | #N/A         | #N/A         | ⋯            | FALSE        | FALSE        | FALSE        | STANDARD     | NA           | NA           | NA           |  0           |  2           |  0           | \n",
       "| 5144853A05   | STANDARD     |              |              | STANDARD     | 0            | #N/A         | #N/A         | #N/A         | #N/A         | ⋯            | FALSE        | FALSE        | FALSE        | STANDARD     |  1           |  0           |  0           | NA           | NA           | NA           | \n",
       "| 5144904A06   | STANDARD     |              |              | STANDARD     | 0            | #N/A         | #N/A         | #N/A         | #N/A         | ⋯            | FALSE        | FALSE        | FALSE        | STANDARD     | NA           | NA           | NA           | NA           | NA           | NA           | \n",
       "| 5144963A07   | STANDARD     |              |              | STANDARD     | 0            | #N/A         | #N/A         | #N/A         | #N/A         | ⋯            | FALSE        | FALSE        | FALSE        | STANDARD     | NA           | NA           | NA           | NA           | NA           | NA           | \n",
       "| 5145195A01   | EXCLUSION    |              |              | EXCLUSION    | 0            | #N/A         | #N/A         | #N/A         | #N/A         | ⋯            | FALSE        | FALSE        | FALSE        | Non-Standard | NA           | NA           | NA           | NA           | NA           | NA           | \n",
       "| 5145292A05   | STANDARD     |              |              | STANDARD     | 0            | #N/A         | #N/A         | #N/A         | #N/A         | ⋯            | FALSE        | FALSE        | FALSE        | STANDARD     | NA           | NA           | NA           | NA           | NA           | NA           | \n",
       "\n",
       "\n"
      ],
      "text/plain": [
       "  Policy     benefitdecision rating reason BenefitDecision2 alcoholunitsperweek\n",
       "1 5144709A01 STANDARD                      STANDARD         0                  \n",
       "2 5144853A05 STANDARD                      STANDARD         0                  \n",
       "3 5144904A06 STANDARD                      STANDARD         0                  \n",
       "4 5144963A07 STANDARD                      STANDARD         0                  \n",
       "5 5145195A01 EXCLUSION                     EXCLUSION        0                  \n",
       "6 5145292A05 STANDARD                      STANDARD         0                  \n",
       "  Avocation1 Avocation2 DivingBuddy DivingFreq ⋯ PF.Loading FH.Loading\n",
       "1 #N/A       #N/A       #N/A        #N/A       ⋯ FALSE      FALSE     \n",
       "2 #N/A       #N/A       #N/A        #N/A       ⋯ FALSE      FALSE     \n",
       "3 #N/A       #N/A       #N/A        #N/A       ⋯ FALSE      FALSE     \n",
       "4 #N/A       #N/A       #N/A        #N/A       ⋯ FALSE      FALSE     \n",
       "5 #N/A       #N/A       #N/A        #N/A       ⋯ FALSE      FALSE     \n",
       "6 #N/A       #N/A       #N/A        #N/A       ⋯ FALSE      FALSE     \n",
       "  CR.Loading Label        Impairment_High Impairment_Low Impairment_Medium\n",
       "1 FALSE      STANDARD     NA              NA             NA               \n",
       "2 FALSE      STANDARD      1               0              0               \n",
       "3 FALSE      STANDARD     NA              NA             NA               \n",
       "4 FALSE      STANDARD     NA              NA             NA               \n",
       "5 FALSE      Non-Standard NA              NA             NA               \n",
       "6 FALSE      STANDARD     NA              NA             NA               \n",
       "  Claim_High Claim_Low Claim_Medium\n",
       "1  0          2         0          \n",
       "2 NA         NA        NA          \n",
       "3 NA         NA        NA          \n",
       "4 NA         NA        NA          \n",
       "5 NA         NA        NA          \n",
       "6 NA         NA        NA          "
      ]
     },
     "metadata": {},
     "output_type": "display_data"
    },
    {
     "data": {
      "text/html": [
       "<table>\n",
       "<thead><tr><th></th><th scope=col>Policy</th><th scope=col>benefitdecision</th><th scope=col>rating</th><th scope=col>reason</th><th scope=col>BenefitDecision2</th><th scope=col>alcoholunitsperweek</th><th scope=col>Avocation1</th><th scope=col>Avocation2</th><th scope=col>DivingBuddy</th><th scope=col>DivingFreq</th><th scope=col>⋯</th><th scope=col>PF.Loading</th><th scope=col>FH.Loading</th><th scope=col>CR.Loading</th><th scope=col>Label</th><th scope=col>Impairment_High</th><th scope=col>Impairment_Low</th><th scope=col>Impairment_Medium</th><th scope=col>Claim_High</th><th scope=col>Claim_Low</th><th scope=col>Claim_Medium</th></tr></thead>\n",
       "<tbody>\n",
       "\t<tr><th scope=row>7478</th><td>S139334A03</td><td>STANDARD  </td><td>          </td><td>          </td><td>STANDARD  </td><td>0         </td><td>None      </td><td>#N/A      </td><td>#N/A      </td><td>#N/A      </td><td>⋯         </td><td>FALSE     </td><td>FALSE     </td><td>FALSE     </td><td>STANDARD  </td><td>NA        </td><td>NA        </td><td>NA        </td><td>NA        </td><td>NA        </td><td>NA        </td></tr>\n",
       "\t<tr><th scope=row>7479</th><td>S139350A07</td><td>STANDARD  </td><td>          </td><td>          </td><td>STANDARD  </td><td>0         </td><td>None      </td><td>#N/A      </td><td>#N/A      </td><td>#N/A      </td><td>⋯         </td><td>FALSE     </td><td>FALSE     </td><td>FALSE     </td><td>STANDARD  </td><td>NA        </td><td>NA        </td><td>NA        </td><td>NA        </td><td>NA        </td><td>NA        </td></tr>\n",
       "\t<tr><th scope=row>7480</th><td>S139389A01</td><td>STANDARD  </td><td>          </td><td>          </td><td>STANDARD  </td><td>0         </td><td>None      </td><td>#N/A      </td><td>#N/A      </td><td>#N/A      </td><td>⋯         </td><td>FALSE     </td><td>FALSE     </td><td>FALSE     </td><td>STANDARD  </td><td>NA        </td><td>NA        </td><td>NA        </td><td>NA        </td><td>NA        </td><td>NA        </td></tr>\n",
       "\t<tr><th scope=row>7481</th><td>S139390A02</td><td>STANDARD  </td><td>          </td><td>          </td><td>STANDARD  </td><td>0         </td><td>None      </td><td>#N/A      </td><td>#N/A      </td><td>#N/A      </td><td>⋯         </td><td>FALSE     </td><td>FALSE     </td><td>FALSE     </td><td>STANDARD  </td><td>NA        </td><td>NA        </td><td>NA        </td><td>NA        </td><td>NA        </td><td>NA        </td></tr>\n",
       "\t<tr><th scope=row>7482</th><td>S139464A08</td><td>STANDARD  </td><td>          </td><td>          </td><td>STANDARD  </td><td>0         </td><td>None      </td><td>#N/A      </td><td>#N/A      </td><td>#N/A      </td><td>⋯         </td><td>FALSE     </td><td>FALSE     </td><td>FALSE     </td><td>STANDARD  </td><td>NA        </td><td>NA        </td><td>NA        </td><td>NA        </td><td>NA        </td><td>NA        </td></tr>\n",
       "\t<tr><th scope=row>7483</th><td>S139529A04</td><td>STANDARD  </td><td>          </td><td>          </td><td>STANDARD  </td><td>0         </td><td>None      </td><td>#N/A      </td><td>#N/A      </td><td>#N/A      </td><td>⋯         </td><td>FALSE     </td><td>FALSE     </td><td>FALSE     </td><td>STANDARD  </td><td>NA        </td><td>NA        </td><td>NA        </td><td>NA        </td><td>NA        </td><td>NA        </td></tr>\n",
       "</tbody>\n",
       "</table>\n"
      ],
      "text/latex": [
       "\\begin{tabular}{r|llllllllllllllllllllllllllllllllllllllllllllllllllllllllllllllllllllllllllllllllllllllllllllllllllllllllllllllllllllllllllllllllllllllllllllllllllllllllllllllllllllllllllllllllllllllllllllllllllllllllllllllllllllllllllllllllllllllllllllllllllllllllllllllllllllllllllllllllllllllllllll}\n",
       "  & Policy & benefitdecision & rating & reason & BenefitDecision2 & alcoholunitsperweek & Avocation1 & Avocation2 & DivingBuddy & DivingFreq & ⋯ & PF.Loading & FH.Loading & CR.Loading & Label & Impairment\\_High & Impairment\\_Low & Impairment\\_Medium & Claim\\_High & Claim\\_Low & Claim\\_Medium\\\\\n",
       "\\hline\n",
       "\t7478 & S139334A03 & STANDARD   &            &            & STANDARD   & 0          & None       & \\#N/A     & \\#N/A     & \\#N/A     & ⋯          & FALSE      & FALSE      & FALSE      & STANDARD   & NA         & NA         & NA         & NA         & NA         & NA        \\\\\n",
       "\t7479 & S139350A07 & STANDARD   &            &            & STANDARD   & 0          & None       & \\#N/A     & \\#N/A     & \\#N/A     & ⋯          & FALSE      & FALSE      & FALSE      & STANDARD   & NA         & NA         & NA         & NA         & NA         & NA        \\\\\n",
       "\t7480 & S139389A01 & STANDARD   &            &            & STANDARD   & 0          & None       & \\#N/A     & \\#N/A     & \\#N/A     & ⋯          & FALSE      & FALSE      & FALSE      & STANDARD   & NA         & NA         & NA         & NA         & NA         & NA        \\\\\n",
       "\t7481 & S139390A02 & STANDARD   &            &            & STANDARD   & 0          & None       & \\#N/A     & \\#N/A     & \\#N/A     & ⋯          & FALSE      & FALSE      & FALSE      & STANDARD   & NA         & NA         & NA         & NA         & NA         & NA        \\\\\n",
       "\t7482 & S139464A08 & STANDARD   &            &            & STANDARD   & 0          & None       & \\#N/A     & \\#N/A     & \\#N/A     & ⋯          & FALSE      & FALSE      & FALSE      & STANDARD   & NA         & NA         & NA         & NA         & NA         & NA        \\\\\n",
       "\t7483 & S139529A04 & STANDARD   &            &            & STANDARD   & 0          & None       & \\#N/A     & \\#N/A     & \\#N/A     & ⋯          & FALSE      & FALSE      & FALSE      & STANDARD   & NA         & NA         & NA         & NA         & NA         & NA        \\\\\n",
       "\\end{tabular}\n"
      ],
      "text/markdown": [
       "\n",
       "| <!--/--> | Policy | benefitdecision | rating | reason | BenefitDecision2 | alcoholunitsperweek | Avocation1 | Avocation2 | DivingBuddy | DivingFreq | ⋯ | PF.Loading | FH.Loading | CR.Loading | Label | Impairment_High | Impairment_Low | Impairment_Medium | Claim_High | Claim_Low | Claim_Medium | \n",
       "|---|---|---|---|---|---|\n",
       "| 7478 | S139334A03 | STANDARD   |            |            | STANDARD   | 0          | None       | #N/A       | #N/A       | #N/A       | ⋯          | FALSE      | FALSE      | FALSE      | STANDARD   | NA         | NA         | NA         | NA         | NA         | NA         | \n",
       "| 7479 | S139350A07 | STANDARD   |            |            | STANDARD   | 0          | None       | #N/A       | #N/A       | #N/A       | ⋯          | FALSE      | FALSE      | FALSE      | STANDARD   | NA         | NA         | NA         | NA         | NA         | NA         | \n",
       "| 7480 | S139389A01 | STANDARD   |            |            | STANDARD   | 0          | None       | #N/A       | #N/A       | #N/A       | ⋯          | FALSE      | FALSE      | FALSE      | STANDARD   | NA         | NA         | NA         | NA         | NA         | NA         | \n",
       "| 7481 | S139390A02 | STANDARD   |            |            | STANDARD   | 0          | None       | #N/A       | #N/A       | #N/A       | ⋯          | FALSE      | FALSE      | FALSE      | STANDARD   | NA         | NA         | NA         | NA         | NA         | NA         | \n",
       "| 7482 | S139464A08 | STANDARD   |            |            | STANDARD   | 0          | None       | #N/A       | #N/A       | #N/A       | ⋯          | FALSE      | FALSE      | FALSE      | STANDARD   | NA         | NA         | NA         | NA         | NA         | NA         | \n",
       "| 7483 | S139529A04 | STANDARD   |            |            | STANDARD   | 0          | None       | #N/A       | #N/A       | #N/A       | ⋯          | FALSE      | FALSE      | FALSE      | STANDARD   | NA         | NA         | NA         | NA         | NA         | NA         | \n",
       "\n",
       "\n"
      ],
      "text/plain": [
       "     Policy     benefitdecision rating reason BenefitDecision2\n",
       "7478 S139334A03 STANDARD                      STANDARD        \n",
       "7479 S139350A07 STANDARD                      STANDARD        \n",
       "7480 S139389A01 STANDARD                      STANDARD        \n",
       "7481 S139390A02 STANDARD                      STANDARD        \n",
       "7482 S139464A08 STANDARD                      STANDARD        \n",
       "7483 S139529A04 STANDARD                      STANDARD        \n",
       "     alcoholunitsperweek Avocation1 Avocation2 DivingBuddy DivingFreq ⋯\n",
       "7478 0                   None       #N/A       #N/A        #N/A       ⋯\n",
       "7479 0                   None       #N/A       #N/A        #N/A       ⋯\n",
       "7480 0                   None       #N/A       #N/A        #N/A       ⋯\n",
       "7481 0                   None       #N/A       #N/A        #N/A       ⋯\n",
       "7482 0                   None       #N/A       #N/A        #N/A       ⋯\n",
       "7483 0                   None       #N/A       #N/A        #N/A       ⋯\n",
       "     PF.Loading FH.Loading CR.Loading Label    Impairment_High Impairment_Low\n",
       "7478 FALSE      FALSE      FALSE      STANDARD NA              NA            \n",
       "7479 FALSE      FALSE      FALSE      STANDARD NA              NA            \n",
       "7480 FALSE      FALSE      FALSE      STANDARD NA              NA            \n",
       "7481 FALSE      FALSE      FALSE      STANDARD NA              NA            \n",
       "7482 FALSE      FALSE      FALSE      STANDARD NA              NA            \n",
       "7483 FALSE      FALSE      FALSE      STANDARD NA              NA            \n",
       "     Impairment_Medium Claim_High Claim_Low Claim_Medium\n",
       "7478 NA                NA         NA        NA          \n",
       "7479 NA                NA         NA        NA          \n",
       "7480 NA                NA         NA        NA          \n",
       "7481 NA                NA         NA        NA          \n",
       "7482 NA                NA         NA        NA          \n",
       "7483 NA                NA         NA        NA          "
      ]
     },
     "metadata": {},
     "output_type": "display_data"
    }
   ],
   "source": [
    "\n",
    "ADD_DF$Label[ADD_DF$BenefitDecision2 == \"DECLINE\"|ADD_DF$BenefitDecision2 == \"EXCLUSION\"|ADD_DF$BenefitDecision2 == \"SUB-STANDARD\"] <- \"Non-Standard\"\n",
    "ADD_DF$Label[ADD_DF$BenefitDecision2 == \"STANDARD\"] <- \"STANDARD\"\n",
    "ADD_DF$Label[ADD_DF$BenefitDecision2 == \"POSTPONE\"|ADD_DF$BenefitDecision2 == \"INCOMPLETE\"|ADD_DF$BenefitDecision2 == \"NOT TAKEN UP\"|ADD_DF$BenefitDecision2 == \"WITHDRAW\"] <- \"DROP\"\n",
    "ADD_DF <- ADD_DF[ADD_DF$Label != \"DROP\", ]\n",
    "dim(ADD_DF)\n",
    "Impairment <- read.csv(\"ImpairmentSeverity_Count.csv\",header=T,sep=\",\")\n",
    "dim(Impairment)\n",
    "Claim <- read.csv(\"ClaimSeverity_Count.csv\",header=T,sep=\",\")\n",
    "dim(Claim)\n",
    "Referral <- read.csv(\"MMDecisionReferOnly_ALL.csv\",header=T,sep=\",\")\n",
    "dim(Referral)\n",
    "head(Impairment)\n",
    "head(Claim)\n",
    "head(Referral)\n",
    "Select_ADD_DF <- merge(ADD_DF,Referral, by=\"Policy\")\n",
    "dim(Select_ADD_DF)\n",
    "Total_ADD_DF <- left_join(Select_ADD_DF,Impairment, by=\"Policy\")\n",
    "dim(Total_ADD_DF)\n",
    "Final_ADD_DF <- left_join(Total_ADD_DF,Claim, by=\"Policy\")\n",
    "dim(Final_ADD_DF)\n",
    "head(Final_ADD_DF)\n",
    "tail(Final_ADD_DF)"
   ]
  },
  {
   "cell_type": "code",
   "execution_count": 12,
   "metadata": {},
   "outputs": [
    {
     "data": {
      "text/html": [
       "<table>\n",
       "<thead><tr><th scope=col>Policy</th><th scope=col>benefitdecision</th><th scope=col>rating</th><th scope=col>reason</th><th scope=col>BenefitDecision2</th><th scope=col>alcoholunitsperweek</th><th scope=col>Avocation1</th><th scope=col>Avocation2</th><th scope=col>DivingBuddy</th><th scope=col>DivingFreq</th><th scope=col>⋯</th><th scope=col>PF.Loading</th><th scope=col>FH.Loading</th><th scope=col>CR.Loading</th><th scope=col>Label</th><th scope=col>Impairment_High</th><th scope=col>Impairment_Low</th><th scope=col>Impairment_Medium</th><th scope=col>Claim_High</th><th scope=col>Claim_Low</th><th scope=col>Claim_Medium</th></tr></thead>\n",
       "<tbody>\n",
       "\t<tr><td>5144709A01  </td><td>STANDARD    </td><td>            </td><td>            </td><td>STANDARD    </td><td>0           </td><td>NA          </td><td>NA          </td><td>NA          </td><td>NA          </td><td>⋯           </td><td>FALSE       </td><td>FALSE       </td><td>FALSE       </td><td>STANDARD    </td><td>NA          </td><td>NA          </td><td>NA          </td><td> 0          </td><td> 2          </td><td> 0          </td></tr>\n",
       "\t<tr><td>5144853A05  </td><td>STANDARD    </td><td>            </td><td>            </td><td>STANDARD    </td><td>0           </td><td>NA          </td><td>NA          </td><td>NA          </td><td>NA          </td><td>⋯           </td><td>FALSE       </td><td>FALSE       </td><td>FALSE       </td><td>STANDARD    </td><td> 1          </td><td> 0          </td><td> 0          </td><td>NA          </td><td>NA          </td><td>NA          </td></tr>\n",
       "\t<tr><td>5144904A06  </td><td>STANDARD    </td><td>            </td><td>            </td><td>STANDARD    </td><td>0           </td><td>NA          </td><td>NA          </td><td>NA          </td><td>NA          </td><td>⋯           </td><td>FALSE       </td><td>FALSE       </td><td>FALSE       </td><td>STANDARD    </td><td>NA          </td><td>NA          </td><td>NA          </td><td>NA          </td><td>NA          </td><td>NA          </td></tr>\n",
       "\t<tr><td>5144963A07  </td><td>STANDARD    </td><td>            </td><td>            </td><td>STANDARD    </td><td>0           </td><td>NA          </td><td>NA          </td><td>NA          </td><td>NA          </td><td>⋯           </td><td>FALSE       </td><td>FALSE       </td><td>FALSE       </td><td>STANDARD    </td><td>NA          </td><td>NA          </td><td>NA          </td><td>NA          </td><td>NA          </td><td>NA          </td></tr>\n",
       "\t<tr><td>5145195A01  </td><td>EXCLUSION   </td><td>            </td><td>            </td><td>EXCLUSION   </td><td>0           </td><td>NA          </td><td>NA          </td><td>NA          </td><td>NA          </td><td>⋯           </td><td>FALSE       </td><td>FALSE       </td><td>FALSE       </td><td>Non-Standard</td><td>NA          </td><td>NA          </td><td>NA          </td><td>NA          </td><td>NA          </td><td>NA          </td></tr>\n",
       "\t<tr><td>5145292A05  </td><td>STANDARD    </td><td>            </td><td>            </td><td>STANDARD    </td><td>0           </td><td>NA          </td><td>NA          </td><td>NA          </td><td>NA          </td><td>⋯           </td><td>FALSE       </td><td>FALSE       </td><td>FALSE       </td><td>STANDARD    </td><td>NA          </td><td>NA          </td><td>NA          </td><td>NA          </td><td>NA          </td><td>NA          </td></tr>\n",
       "</tbody>\n",
       "</table>\n"
      ],
      "text/latex": [
       "\\begin{tabular}{r|llllllllllllllllllllllllllllllllllllllllllllllllllllllllllllllllllllllllllllllllllllllllllllllllllllllllllllllllllllllllllllllllllllllllllllllllllllllllllllllllllllllllllllllllllllllllllllllllllllllllllllllllllllllllllllllllllllllllllllllllllllllllllllllllllllllllllllllllllllllllllll}\n",
       " Policy & benefitdecision & rating & reason & BenefitDecision2 & alcoholunitsperweek & Avocation1 & Avocation2 & DivingBuddy & DivingFreq & ⋯ & PF.Loading & FH.Loading & CR.Loading & Label & Impairment\\_High & Impairment\\_Low & Impairment\\_Medium & Claim\\_High & Claim\\_Low & Claim\\_Medium\\\\\n",
       "\\hline\n",
       "\t 5144709A01   & STANDARD     &              &              & STANDARD     & 0            & NA           & NA           & NA           & NA           & ⋯            & FALSE        & FALSE        & FALSE        & STANDARD     & NA           & NA           & NA           &  0           &  2           &  0          \\\\\n",
       "\t 5144853A05   & STANDARD     &              &              & STANDARD     & 0            & NA           & NA           & NA           & NA           & ⋯            & FALSE        & FALSE        & FALSE        & STANDARD     &  1           &  0           &  0           & NA           & NA           & NA          \\\\\n",
       "\t 5144904A06   & STANDARD     &              &              & STANDARD     & 0            & NA           & NA           & NA           & NA           & ⋯            & FALSE        & FALSE        & FALSE        & STANDARD     & NA           & NA           & NA           & NA           & NA           & NA          \\\\\n",
       "\t 5144963A07   & STANDARD     &              &              & STANDARD     & 0            & NA           & NA           & NA           & NA           & ⋯            & FALSE        & FALSE        & FALSE        & STANDARD     & NA           & NA           & NA           & NA           & NA           & NA          \\\\\n",
       "\t 5145195A01   & EXCLUSION    &              &              & EXCLUSION    & 0            & NA           & NA           & NA           & NA           & ⋯            & FALSE        & FALSE        & FALSE        & Non-Standard & NA           & NA           & NA           & NA           & NA           & NA          \\\\\n",
       "\t 5145292A05   & STANDARD     &              &              & STANDARD     & 0            & NA           & NA           & NA           & NA           & ⋯            & FALSE        & FALSE        & FALSE        & STANDARD     & NA           & NA           & NA           & NA           & NA           & NA          \\\\\n",
       "\\end{tabular}\n"
      ],
      "text/markdown": [
       "\n",
       "Policy | benefitdecision | rating | reason | BenefitDecision2 | alcoholunitsperweek | Avocation1 | Avocation2 | DivingBuddy | DivingFreq | ⋯ | PF.Loading | FH.Loading | CR.Loading | Label | Impairment_High | Impairment_Low | Impairment_Medium | Claim_High | Claim_Low | Claim_Medium | \n",
       "|---|---|---|---|---|---|\n",
       "| 5144709A01   | STANDARD     |              |              | STANDARD     | 0            | NA           | NA           | NA           | NA           | ⋯            | FALSE        | FALSE        | FALSE        | STANDARD     | NA           | NA           | NA           |  0           |  2           |  0           | \n",
       "| 5144853A05   | STANDARD     |              |              | STANDARD     | 0            | NA           | NA           | NA           | NA           | ⋯            | FALSE        | FALSE        | FALSE        | STANDARD     |  1           |  0           |  0           | NA           | NA           | NA           | \n",
       "| 5144904A06   | STANDARD     |              |              | STANDARD     | 0            | NA           | NA           | NA           | NA           | ⋯            | FALSE        | FALSE        | FALSE        | STANDARD     | NA           | NA           | NA           | NA           | NA           | NA           | \n",
       "| 5144963A07   | STANDARD     |              |              | STANDARD     | 0            | NA           | NA           | NA           | NA           | ⋯            | FALSE        | FALSE        | FALSE        | STANDARD     | NA           | NA           | NA           | NA           | NA           | NA           | \n",
       "| 5145195A01   | EXCLUSION    |              |              | EXCLUSION    | 0            | NA           | NA           | NA           | NA           | ⋯            | FALSE        | FALSE        | FALSE        | Non-Standard | NA           | NA           | NA           | NA           | NA           | NA           | \n",
       "| 5145292A05   | STANDARD     |              |              | STANDARD     | 0            | NA           | NA           | NA           | NA           | ⋯            | FALSE        | FALSE        | FALSE        | STANDARD     | NA           | NA           | NA           | NA           | NA           | NA           | \n",
       "\n",
       "\n"
      ],
      "text/plain": [
       "  Policy     benefitdecision rating reason BenefitDecision2 alcoholunitsperweek\n",
       "1 5144709A01 STANDARD                      STANDARD         0                  \n",
       "2 5144853A05 STANDARD                      STANDARD         0                  \n",
       "3 5144904A06 STANDARD                      STANDARD         0                  \n",
       "4 5144963A07 STANDARD                      STANDARD         0                  \n",
       "5 5145195A01 EXCLUSION                     EXCLUSION        0                  \n",
       "6 5145292A05 STANDARD                      STANDARD         0                  \n",
       "  Avocation1 Avocation2 DivingBuddy DivingFreq ⋯ PF.Loading FH.Loading\n",
       "1 NA         NA         NA          NA         ⋯ FALSE      FALSE     \n",
       "2 NA         NA         NA          NA         ⋯ FALSE      FALSE     \n",
       "3 NA         NA         NA          NA         ⋯ FALSE      FALSE     \n",
       "4 NA         NA         NA          NA         ⋯ FALSE      FALSE     \n",
       "5 NA         NA         NA          NA         ⋯ FALSE      FALSE     \n",
       "6 NA         NA         NA          NA         ⋯ FALSE      FALSE     \n",
       "  CR.Loading Label        Impairment_High Impairment_Low Impairment_Medium\n",
       "1 FALSE      STANDARD     NA              NA             NA               \n",
       "2 FALSE      STANDARD      1               0              0               \n",
       "3 FALSE      STANDARD     NA              NA             NA               \n",
       "4 FALSE      STANDARD     NA              NA             NA               \n",
       "5 FALSE      Non-Standard NA              NA             NA               \n",
       "6 FALSE      STANDARD     NA              NA             NA               \n",
       "  Claim_High Claim_Low Claim_Medium\n",
       "1  0          2         0          \n",
       "2 NA         NA        NA          \n",
       "3 NA         NA        NA          \n",
       "4 NA         NA        NA          \n",
       "5 NA         NA        NA          \n",
       "6 NA         NA        NA          "
      ]
     },
     "metadata": {},
     "output_type": "display_data"
    }
   ],
   "source": [
    "library(ggplot2)\n",
    "library(rpart)\n",
    "for (i in 1:ncol(Final_ADD_DF)) if (class (Final_ADD_DF[,i]) == \"factor\") Final_ADD_DF[,i] <-as.character(Final_ADD_DF[,i])\n",
    "Final_ADD_DF <- as.data.frame(lapply(Final_ADD_DF, function(x){replace(x, x == \"#N/A\", NA)}))\n",
    "head(Final_ADD_DF)"
   ]
  },
  {
   "cell_type": "code",
   "execution_count": 24,
   "metadata": {},
   "outputs": [
    {
     "data": {
      "text/plain": [
       "\n",
       "Non-Standard     STANDARD \n",
       "         599         6884 "
      ]
     },
     "metadata": {},
     "output_type": "display_data"
    },
    {
     "data": {
      "text/html": [
       "<ol class=list-inline>\n",
       "\t<li>7483</li>\n",
       "\t<li>134</li>\n",
       "</ol>\n"
      ],
      "text/latex": [
       "\\begin{enumerate*}\n",
       "\\item 7483\n",
       "\\item 134\n",
       "\\end{enumerate*}\n"
      ],
      "text/markdown": [
       "1. 7483\n",
       "2. 134\n",
       "\n",
       "\n"
      ],
      "text/plain": [
       "[1] 7483  134"
      ]
     },
     "metadata": {},
     "output_type": "display_data"
    },
    {
     "name": "stdout",
     "output_type": "stream",
     "text": [
      "'data.frame':\t7483 obs. of  134 variables:\n",
      " $ Policy                                 : Factor w/ 7483 levels \"5144709A01\",\"5144853A05\",..: 1 2 3 4 5 6 7 8 9 10 ...\n",
      " $ benefitdecision                        : Factor w/ 6 levels \"DECLINE\",\"EXCLUSION\",..: 5 5 5 5 2 5 5 5 5 5 ...\n",
      " $ rating                                 : Factor w/ 3 levels \"\",\"100.00%\",\"50.00%\": 1 1 1 1 1 1 1 1 1 1 ...\n",
      " $ reason                                 : Factor w/ 5 levels \"\",\"CR - COMPANY RULES\",..: 1 1 1 1 1 1 1 1 1 1 ...\n",
      " $ BenefitDecision2                       : Factor w/ 4 levels \"DECLINE\",\"EXCLUSION\",..: 3 3 3 3 2 3 3 3 3 3 ...\n",
      " $ alcoholunitsperweek                    : int  0 0 0 0 0 0 0 0 0 0 ...\n",
      " $ Avocation1                             : Factor w/ 5 levels \"Diving\",\"Motor car or motor cycle racing\",..: NA NA NA NA NA NA NA NA NA NA ...\n",
      " $ HeightCM                               : Factor w/ 98 levels \"130\",\"132\",\"133\",..: 46 36 21 34 22 24 14 32 24 22 ...\n",
      " $ ImpairmentListAdultDetails11           : Factor w/ 23 levels \"{A sexually transmitted disease, HIV or AIDS}\",..: 16 16 16 16 16 16 16 17 16 16 ...\n",
      " $ MMAdultDefects                         : Factor w/ 2 levels \"No\",\"Yes\": NA NA NA NA NA NA NA NA NA NA ...\n",
      " $ MMAvocationList                        : Factor w/ 11 levels \"{Diving}\",\"{Diving}{Motor car or motor cycle racing}\",..: 9 9 9 9 9 9 9 9 9 9 ...\n",
      " $ MMBiopsy1                              : Factor w/ 2 levels \"No\",\"Yes\": 1 1 1 1 1 1 1 1 1 1 ...\n",
      " $ mmcigarettesperday                     : Factor w/ 5 levels \"1 - 5 per day\",..: 5 1 5 5 5 5 5 5 5 5 ...\n",
      " $ MMDisability1                          : Factor w/ 2 levels \"No\",\"Yes\": 1 1 1 1 1 1 1 1 1 1 ...\n",
      " $ MMImpEars1                             : Factor w/ 2 levels \"No\",\"Yes\": 1 1 1 1 1 1 1 1 1 1 ...\n",
      " $ MMImpEyes1                             : Factor w/ 2 levels \"No\",\"Yes\": 1 1 1 1 1 1 1 1 1 1 ...\n",
      " $ MMimpGas1                              : Factor w/ 2 levels \"No\",\"Yes\": 1 1 1 1 1 1 1 1 1 1 ...\n",
      " $ MMImpMusc1                             : Factor w/ 2 levels \"No\",\"Yes\": 1 1 1 1 1 1 1 1 1 1 ...\n",
      " $ MMImpResp1                             : Factor w/ 2 levels \"No\",\"Yes\": NA 1 1 1 1 1 1 NA 1 1 ...\n",
      " $ MMLiverDisorderChild1                  : Factor w/ 1 level \"\": NA NA NA NA NA NA NA NA NA NA ...\n",
      " $ MMTimeOffWork1                         : Factor w/ 2 levels \"{No}\",\"{Yes}\": 1 1 1 1 2 1 1 1 1 1 ...\n",
      " $ MMTravelResidenceChildMalaysiaNo1Others: Factor w/ 1 level \"\": 1 1 1 1 1 1 1 1 1 1 ...\n",
      " $ MYPAQMotorcycleJob                     : Factor w/ 2 levels \"No\",\"Yes\": NA NA NA NA NA NA NA NA NA NA ...\n",
      " $ postcode                               : Factor w/ 671 levels \"0\",\"1000\",\"10050\",..: 47 257 518 427 321 263 333 183 257 257 ...\n",
      " $ RelationName6                          : Factor w/ 1 level \"\": 1 1 1 1 1 1 1 1 1 1 ...\n",
      " $ RelationName7                          : Factor w/ 1 level \"\": 1 1 1 1 1 1 1 1 1 1 ...\n",
      " $ smokingstatusyn                        : logi  FALSE TRUE FALSE FALSE FALSE FALSE ...\n",
      " $ TravelResideOverseas                   : Factor w/ 2 levels \"No\",\"Yes\": 1 1 1 1 1 1 1 1 1 1 ...\n",
      " $ WeightKilos                            : Factor w/ 136 levels \"100\",\"100.2\",..: 111 108 75 85 81 99 95 105 76 90 ...\n",
      " $ releasecode                            : Factor w/ 9 levels \"\",\"0.0.18\",\"0.0.23\",..: 2 2 2 2 2 2 2 2 2 2 ...\n",
      " $ applicationdate                        : Factor w/ 276 levels \"\",\"1/1/2017\",..: 116 125 125 125 134 134 162 189 217 272 ...\n",
      " $ applicationtime                        : Factor w/ 2 levels \"\",\"1/0/1900\": 2 2 2 2 2 2 2 2 2 2 ...\n",
      " $ currency                               : Factor w/ 2 levels \"\",\"MYR\": 2 2 2 2 2 2 2 2 2 2 ...\n",
      " $ clientpresent                          : logi  FALSE FALSE FALSE FALSE FALSE FALSE ...\n",
      " $ agencygroupcode                        : Factor w/ 1367 levels \"\",\"1014\",\"1020\",..: 305 1315 1238 1362 1236 306 1163 18 980 1311 ...\n",
      " $ agencycode                             : Factor w/ 3376 levels \"\",\"000001001A\",..: 2750 2179 2178 2097 392 1066 2049 123 1842 2189 ...\n",
      " $ agencycode2                            : Factor w/ 30 levels \"\",\"000001786A\",..: 30 30 30 30 30 30 30 30 30 30 ...\n",
      " $ agentauthority                         : Factor w/ 5 levels \"\",\"Gold\",\"Ordinary\",..: 3 4 3 3 3 3 5 3 3 5 ...\n",
      " $ agentauthority2                        : Factor w/ 6 levels \"\",\"Gold\",\"N/A\",..: 3 3 3 3 3 3 3 3 3 3 ...\n",
      " $ mycompany                              : Factor w/ 3 levels \"\",\"AATB\",\"AIAB\": 3 3 3 3 3 3 3 3 3 3 ...\n",
      " $ plantype                               : Factor w/ 4 levels \"\",\"Investment link\",..: 4 4 4 4 4 4 4 4 4 4 ...\n",
      " $ plancurrency                           : Factor w/ 2 levels \"\",\"MYR\": 2 2 2 2 2 2 2 2 2 2 ...\n",
      " $ medicalcase                            : logi  FALSE FALSE FALSE FALSE FALSE FALSE ...\n",
      " $ conversioncase                         : logi  FALSE FALSE FALSE FALSE FALSE FALSE ...\n",
      " $ singlepremiumamount                    : int  0 0 0 0 0 0 0 0 0 0 ...\n",
      " $ annualpremiumamount                    : num  1415 2555 1019 1078 1326 ...\n",
      " $ policyownerrelationship                : Factor w/ 22 levels \"\",\"AUNTS\",\"Brother\",..: 17 17 17 17 17 17 17 17 17 17 ...\n",
      " $ policyownercontingent                  : Factor w/ 6 levels \"\",\"Brother/Sister\",..: 6 6 6 6 6 6 6 6 6 6 ...\n",
      " $ policyownernationality                 : Factor w/ 36 levels \"\",\"ALGERIA\",\"AUSTRALIA\",..: 21 21 21 21 21 21 21 21 21 21 ...\n",
      " $ policyownerocc                         : Factor w/ 502 levels \"\",\"A51-01-04\",..: 177 224 198 245 263 154 291 263 55 360 ...\n",
      " $ annualpersonalincomeprimaryinsured     : int  120000 0 0 24000 36000 35999 0 35999 48001 48001 ...\n",
      " $ annualpersonalincomepolicyowner        : int  120000 0 0 24000 36000 35999 0 35999 48001 48001 ...\n",
      " $ annualpersonalincomespouse             : int  0 0 0 0 0 0 0 0 0 0 ...\n",
      " $ annualregularpremiumprimaryinsured     : num  4615 4016 2073 2028 8618 ...\n",
      " $ annualregularpremiumpolicyowner        : num  4615 4016 2073 2028 8618 ...\n",
      " $ blacklistedagentstatus                 : int  0 0 0 0 0 0 0 0 0 0 ...\n",
      " $ blacklistedagentstatus2                : int  0 0 0 0 0 0 0 0 0 0 ...\n",
      " $ randomcheckpolicy                      : logi  FALSE FALSE FALSE FALSE FALSE FALSE ...\n",
      " $ randomcheckagent                       : logi  FALSE FALSE FALSE FALSE FALSE FALSE ...\n",
      " $ officeaddressna                        : logi  FALSE FALSE FALSE FALSE FALSE FALSE ...\n",
      " $ financiallydependent                   : logi  FALSE FALSE FALSE FALSE FALSE FALSE ...\n",
      " $ nominees                               : Factor w/ 101 levels \"\",\"Boyfriend\",..: 84 84 61 61 1 84 84 1 84 4 ...\n",
      " $ FINANCIALLIFE                          : Factor w/ 465 levels \"\",\"0\",\"10000\",..: 104 333 234 153 220 4 243 438 203 355 ...\n",
      " $ substdhx                               : Factor w/ 3 levels \"\",\"FALSE\",\"TRUE\": 2 2 2 2 2 2 2 2 2 2 ...\n",
      " $ WP.TPD                                 : Factor w/ 453 levels \"\",\"0\",\"100000\",..: NA NA NA NA NA 112 NA NA 232 NA ...\n",
      " $ CI                                     : Factor w/ 192 levels \"\",\"0\",\"10000\",..: 4 NA NA 59 4 NA NA NA 60 NA ...\n",
      " $ EARLYCI                                : Factor w/ 43 levels \"\",\"0\",\"10000\",..: NA NA NA NA NA NA NA NA 4 NA ...\n",
      " $ WP.CI                                  : Factor w/ 648 levels \"\",\"0\",\"100000\",..: NA 91 274 NA NA 179 NA NA 380 246 ...\n",
      " $ HS                                     : Factor w/ 41 levels \"\",\"0\",\"100\",\"120\",..: 5 5 9 5 7 5 5 NA 7 4 ...\n",
      " $ EAPWP.FREE                             : Factor w/ 348 levels \"\",\"0\",\"10000\",..: 81 249 NA 124 309 4 188 323 125 161 ...\n",
      " $ WLHB                                   : Factor w/ 19 levels \"\",\"0\",\"100\",\"150\",..: 13 NA NA NA NA 2 NA NA 3 NA ...\n",
      " $ MMCaseExistingCover_ClaimRecord        : Factor w/ 349 levels \"\",\"0\",\"11\",\"153\",..: 1 1 1 1 1 1 1 1 1 1 ...\n",
      " $ lastclaimdate                          : Factor w/ 808 levels \"\",\"13/01/2008\",..: 1 1 1 1 1 1 1 1 1 1 ...\n",
      " $ ADD                                    : Factor w/ 65 levels \"\",\"0\",\"10000\",..: 23 33 45 NA NA NA NA 61 NA NA ...\n",
      " $ impairmentrecord                       : Factor w/ 137 levels \"\",\"112\",\"118\",..: 1 1 1 1 1 1 1 1 1 1 ...\n",
      " $ impairmentrecorddate                   : Factor w/ 594 levels \"\",\"13/01/2014\",..: 1 1 1 1 1 1 1 1 1 1 ...\n",
      " $ RCC                                    : Factor w/ 98 levels \"\",\"0\",\"10000\",..: 44 74 4 67 35 4 43 87 67 62 ...\n",
      " $ EPA                                    : Factor w/ 90 levels \"\",\"0\",\"10000\",..: 61 46 61 61 34 4 42 NA 61 56 ...\n",
      " $ CLR                                    : Factor w/ 107 levels \"\",\"0\",\"10000\",..: 4 NA NA 33 79 NA NA NA 4 NA ...\n",
      " $ aggregatepaplan                        : Factor w/ 5 levels \"\",\"ANNPA\",\"ESPA\",..: NA NA NA NA NA NA NA NA NA NA ...\n",
      " $ aggregatepaplanpolicy                  : Factor w/ 4 levels \"\",\"1\",\"2\",\"3\": NA NA NA NA NA NA NA NA NA NA ...\n",
      " $ aggregatepaplansa                      : Factor w/ 25 levels \"\",\"100000\",\"1000000\",..: NA NA NA NA NA NA NA NA NA NA ...\n",
      " $ EAPWC.F                                : Factor w/ 108 levels \"\",\"10000\",\"100000\",..: 1 1 1 1 1 1 1 1 1 1 ...\n",
      " $ WC.CI                                  : Factor w/ 212 levels \"\",\"0\",\"102800\",..: 1 1 1 1 1 1 1 1 1 1 ...\n",
      " $ WC.TPD                                 : Factor w/ 194 levels \"\",\"0\",\"1000040\",..: 1 1 1 1 1 1 1 1 1 1 ...\n",
      " $ MCIR                                   : Factor w/ 19 levels \"\",\"0\",\"10000\",..: 1 1 1 1 1 1 1 1 1 1 ...\n",
      " $ WC.DTH                                 : Factor w/ 24 levels \"\",\"1500\",\"1583\",..: 1 1 1 1 1 1 1 1 1 1 ...\n",
      " $ EAPWC.P                                : Factor w/ 1 level \"\": 1 1 1 1 1 1 1 1 1 1 ...\n",
      " $ HAJJBASIC                              : Factor w/ 4 levels \"\",\"10000\",\"100000\",..: 1 1 1 1 1 1 1 1 1 1 ...\n",
      " $ dateofbirth                            : Factor w/ 5491 levels \"\",\"1/1/1954\",..: 4769 2550 5039 1755 321 5232 4499 3590 4565 1671 ...\n",
      " $ sex                                    : Factor w/ 3 levels \"\",\"F\",\"M\": 3 3 3 3 2 2 2 3 2 2 ...\n",
      " $ maritalstatus                          : Factor w/ 5 levels \"\",\"Divorced\",..: 3 3 4 4 4 3 3 3 3 4 ...\n",
      " $ smokerstatusyn                         : logi  FALSE TRUE FALSE FALSE FALSE FALSE ...\n",
      " $ occupation                             : Factor w/ 497 levels \"\",\"A51-01-04\",..: 175 222 196 243 261 152 286 261 55 355 ...\n",
      " $ insuranceage                           : int  42 48 20 19 37 32 40 60 32 27 ...\n",
      " $ nationality                            : Factor w/ 37 levels \"\",\"ALGERIA\",\"AUSTRALIA\",..: 21 21 21 21 21 21 21 21 21 21 ...\n",
      " $ caserole                               : Factor w/ 2 levels \"\",\"Primary Insured\": 2 2 2 2 2 2 2 2 2 2 ...\n",
      " $ lifeapp3mths                           : logi  FALSE TRUE FALSE TRUE TRUE FALSE ...\n",
      " $ paaggregatesa                          : int  0 0 0 0 0 0 0 0 0 0 ...\n",
      " $ aggregatesawi                          : int  0 0 0 0 0 0 0 0 0 0 ...\n",
      " $ nmlaggregatedsa                        : int  50000 50000 30000 20000 273000 100000 31000 80000 50000 25000 ...\n",
      " $ nmlaggregatedsabanca                   : int  0 0 0 0 0 0 0 0 0 0 ...\n",
      " $ nmltotalsa                             : int  173250 50000 30000 20000 273000 100000 31000 80000 300000 55000 ...\n",
      " $ financialtotalsa                       : int  150000 50000 30000 20000 273000 100000 31000 80000 250000 55000 ...\n",
      " $ financialtotalsabanca                  : int  0 0 0 0 0 0 0 0 0 0 ...\n",
      " $ aggregatesinglepremiumnml              : int  0 0 0 0 0 0 0 0 0 0 ...\n",
      " $ othercolifesa                          : int  0 0 0 0 80000 0 0 0 0 0 ...\n",
      " $ othercoaccsa                           : int  0 0 0 0 0 0 0 0 0 0 ...\n",
      " $ othercocisa                            : int  0 0 0 0 0 0 0 0 0 0 ...\n",
      " $ acidrecord                             : logi  FALSE FALSE FALSE FALSE FALSE FALSE ...\n",
      " $ liamrecord                             : logi  FALSE FALSE FALSE FALSE FALSE FALSE ...\n",
      " $ peplist                                : logi  FALSE FALSE FALSE FALSE FALSE FALSE ...\n",
      " $ badclient                              : logi  FALSE FALSE FALSE FALSE FALSE FALSE ...\n",
      " $ previouspolicyfullyuw                  : logi  TRUE TRUE FALSE TRUE TRUE TRUE ...\n",
      " $ bmi                                    : int  23 25 19 19 21 25 28 25 19 23 ...\n",
      " $ heightcm                               : num  178 170 157 168 158 160 150 167 160 158 ...\n",
      " $ weightkilos                            : num  74 72 48 55 52.4 65 62 70 49 58 ...\n",
      " $ sioheightcm                            : int  0 0 0 0 0 0 0 0 0 0 ...\n",
      " $ sioweightkilos                         : int  0 0 0 0 0 0 0 0 0 0 ...\n",
      " $ Impairment                             : int  0 1 0 0 0 0 0 0 0 0 ...\n",
      " $ MMCasePerLife_ClaimRecord              : int  1 0 0 0 0 0 1 0 0 1 ...\n",
      " $ existingexclusion                      : logi  FALSE FALSE FALSE FALSE FALSE FALSE ...\n",
      " $ existinganymedicalpendingcode          : logi  FALSE FALSE FALSE FALSE FALSE FALSE ...\n",
      " $ OC.Loading                             : logi  FALSE FALSE FALSE FALSE FALSE FALSE ...\n",
      " $ PF.Loading                             : logi  FALSE FALSE FALSE FALSE FALSE FALSE ...\n",
      " $ FH.Loading                             : logi  FALSE FALSE FALSE FALSE FALSE FALSE ...\n",
      " $ CR.Loading                             : logi  FALSE FALSE FALSE FALSE FALSE FALSE ...\n",
      " $ Label                                  : Factor w/ 2 levels \"Non-Standard\",..: 2 2 2 2 1 2 2 2 2 2 ...\n",
      " $ Impairment_High                        : int  NA 1 NA NA NA NA NA NA NA NA ...\n",
      " $ Impairment_Low                         : int  NA 0 NA NA NA NA NA NA NA NA ...\n",
      " $ Impairment_Medium                      : int  NA 0 NA NA NA NA NA NA NA NA ...\n",
      " $ Claim_High                             : int  0 NA NA NA NA NA 0 NA NA 0 ...\n",
      " $ Claim_Low                              : int  2 NA NA NA NA NA 1 NA NA 1 ...\n",
      " $ Claim_Medium                           : int  0 NA NA NA NA NA 0 NA NA 0 ...\n"
     ]
    }
   ],
   "source": [
    "table(Final_ADD_DF$Label)\n",
    "filterColumnsByNA <- function(df,percentCutoff){\n",
    "    df <- df[,colSums(is.na(df))/nrow(df)<percentCutoff]\n",
    "    return(df)\n",
    "}\n",
    "Reduce_ADD_DF <- filterColumnsByNA(Final_ADD_DF,0.70)\n",
    "dim(Reduce_ADD_DF)\n",
    "str(Reduce_ADD_DF,list.len=ncol(Reduce_ADD_DF))"
   ]
  },
  {
   "cell_type": "code",
   "execution_count": 42,
   "metadata": {},
   "outputs": [
    {
     "data": {
      "text/plain": [
       "              \n",
       "               Diving Motor car or motor cycle racing\n",
       "  Non-Standard      0                               0\n",
       "  STANDARD         17                               2\n",
       "              \n",
       "               Mountaineering or rock climbing None Others\n",
       "  Non-Standard                               0  291      4\n",
       "  STANDARD                                   3 3551      4"
      ]
     },
     "metadata": {},
     "output_type": "display_data"
    },
    {
     "data": {
      "text/plain": [
       "              \n",
       "                     Diving Motor car or motor cycle racing\n",
       "  Non-Standard 0.0000000000                    0.0000000000\n",
       "  STANDARD     0.0047525860                    0.0005591278\n",
       "              \n",
       "               Mountaineering or rock climbing         None       Others\n",
       "  Non-Standard                    0.0000000000 0.9864406780 0.0135593220\n",
       "  STANDARD                        0.0008386916 0.9927313391 0.0011182555"
      ]
     },
     "metadata": {},
     "output_type": "display_data"
    },
    {
     "data": {
      "text/plain": [
       "\n",
       "\tFisher's Exact Test for Count Data\n",
       "\n",
       "data:  mytable\n",
       "p-value = 0.009439\n",
       "alternative hypothesis: two.sided\n"
      ]
     },
     "metadata": {},
     "output_type": "display_data"
    }
   ],
   "source": [
    "\n",
    "mytable <- table(Reduce_ADD_DF$Label,Reduce_ADD_DF[,7])\n",
    "mytable\n",
    "prop.table(mytable,1)\n",
    "fisher.test(mytable)"
   ]
  },
  {
   "cell_type": "code",
   "execution_count": 43,
   "metadata": {},
   "outputs": [
    {
     "data": {
      "text/plain": [
       "              \n",
       "               {A sexually transmitted disease, HIV or AIDS}\n",
       "  Non-Standard                                             0\n",
       "  STANDARD                                                 1\n",
       "              \n",
       "               {Abnormal heart beat}\n",
       "  Non-Standard                     0\n",
       "  STANDARD                         5\n",
       "              \n",
       "               {Any mental health disorder including anxiety, depression}\n",
       "  Non-Standard                                                          1\n",
       "  STANDARD                                                              5\n",
       "              \n",
       "               {Blood disorder (e.g. anaemia)}\n",
       "  Non-Standard                               0\n",
       "  STANDARD                                   8\n",
       "              \n",
       "               {Cancer, malignant tumour or growth} {Chest discomfort}\n",
       "  Non-Standard                                    1                  1\n",
       "  STANDARD                                        3                  6\n",
       "              \n",
       "               {Diabetes or raised blood sugar}\n",
       "  Non-Standard                                3\n",
       "  STANDARD                                    7\n",
       "              \n",
       "               {Diabetes or raised blood sugar}{Raised blood pressure}\n",
       "  Non-Standard                                                       2\n",
       "  STANDARD                                                           2\n",
       "              \n",
       "               {Diabetes or raised blood sugar}{Raised cholesterol}\n",
       "  Non-Standard                                                    0\n",
       "  STANDARD                                                        1\n",
       "              \n",
       "               {Heart abnormality or heart valve disease}\n",
       "  Non-Standard                                          1\n",
       "  STANDARD                                              4\n",
       "              \n",
       "               {Heart attack or coronary artery disease}\n",
       "  Non-Standard                                         5\n",
       "  STANDARD                                             1\n",
       "              \n",
       "               {Heart attack or coronary artery disease}{Raised blood pressure}{Thyroid disorder}\n",
       "  Non-Standard                                                                                  1\n",
       "  STANDARD                                                                                      0\n",
       "              \n",
       "               {Kidney disorder} {Liver disorder (e.g. hepatitis, gallstone)}\n",
       "  Non-Standard                 1                                            0\n",
       "  STANDARD                     6                                           27\n",
       "              \n",
       "               {Liver disorder (e.g. hepatitis, gallstone)}{Raised blood pressure}\n",
       "  Non-Standard                                                                   2\n",
       "  STANDARD                                                                       0\n",
       "              \n",
       "               {None of these} {Raised blood pressure}\n",
       "  Non-Standard             110                       5\n",
       "  STANDARD                3680                      55\n",
       "              \n",
       "               {Raised blood pressure}{Raised cholesterol}\n",
       "  Non-Standard                                           0\n",
       "  STANDARD                                               4\n",
       "              \n",
       "               {Raised blood pressure}{Thyroid disorder} {Raised cholesterol}\n",
       "  Non-Standard                                         0                    2\n",
       "  STANDARD                                             2                    8\n",
       "              \n",
       "               {Rheumatoid arthritis} {Stroke, transient ischemic attack (TIA)}\n",
       "  Non-Standard                      1                                         3\n",
       "  STANDARD                          0                                         0\n",
       "              \n",
       "               {Thyroid disorder}\n",
       "  Non-Standard                  0\n",
       "  STANDARD                     26"
      ]
     },
     "metadata": {},
     "output_type": "display_data"
    },
    {
     "data": {
      "text/plain": [
       "              \n",
       "               {A sexually transmitted disease, HIV or AIDS}\n",
       "  Non-Standard                                  0.0000000000\n",
       "  STANDARD                                      0.0002596728\n",
       "              \n",
       "               {Abnormal heart beat}\n",
       "  Non-Standard          0.0000000000\n",
       "  STANDARD              0.0012983641\n",
       "              \n",
       "               {Any mental health disorder including anxiety, depression}\n",
       "  Non-Standard                                               0.0071942446\n",
       "  STANDARD                                                   0.0012983641\n",
       "              \n",
       "               {Blood disorder (e.g. anaemia)}\n",
       "  Non-Standard                    0.0000000000\n",
       "  STANDARD                        0.0020773825\n",
       "              \n",
       "               {Cancer, malignant tumour or growth} {Chest discomfort}\n",
       "  Non-Standard                         0.0071942446       0.0071942446\n",
       "  STANDARD                             0.0007790184       0.0015580369\n",
       "              \n",
       "               {Diabetes or raised blood sugar}\n",
       "  Non-Standard                     0.0215827338\n",
       "  STANDARD                         0.0018177097\n",
       "              \n",
       "               {Diabetes or raised blood sugar}{Raised blood pressure}\n",
       "  Non-Standard                                            0.0143884892\n",
       "  STANDARD                                                0.0005193456\n",
       "              \n",
       "               {Diabetes or raised blood sugar}{Raised cholesterol}\n",
       "  Non-Standard                                         0.0000000000\n",
       "  STANDARD                                             0.0002596728\n",
       "              \n",
       "               {Heart abnormality or heart valve disease}\n",
       "  Non-Standard                               0.0071942446\n",
       "  STANDARD                                   0.0010386912\n",
       "              \n",
       "               {Heart attack or coronary artery disease}\n",
       "  Non-Standard                              0.0359712230\n",
       "  STANDARD                                  0.0002596728\n",
       "              \n",
       "               {Heart attack or coronary artery disease}{Raised blood pressure}{Thyroid disorder}\n",
       "  Non-Standard                                                                       0.0071942446\n",
       "  STANDARD                                                                           0.0000000000\n",
       "              \n",
       "               {Kidney disorder} {Liver disorder (e.g. hepatitis, gallstone)}\n",
       "  Non-Standard      0.0071942446                                 0.0000000000\n",
       "  STANDARD          0.0015580369                                 0.0070111659\n",
       "              \n",
       "               {Liver disorder (e.g. hepatitis, gallstone)}{Raised blood pressure}\n",
       "  Non-Standard                                                        0.0143884892\n",
       "  STANDARD                                                            0.0000000000\n",
       "              \n",
       "               {None of these} {Raised blood pressure}\n",
       "  Non-Standard    0.7913669065            0.0359712230\n",
       "  STANDARD        0.9555959491            0.0142820047\n",
       "              \n",
       "               {Raised blood pressure}{Raised cholesterol}\n",
       "  Non-Standard                                0.0000000000\n",
       "  STANDARD                                    0.0010386912\n",
       "              \n",
       "               {Raised blood pressure}{Thyroid disorder} {Raised cholesterol}\n",
       "  Non-Standard                              0.0000000000         0.0143884892\n",
       "  STANDARD                                  0.0005193456         0.0020773825\n",
       "              \n",
       "               {Rheumatoid arthritis} {Stroke, transient ischemic attack (TIA)}\n",
       "  Non-Standard           0.0071942446                              0.0215827338\n",
       "  STANDARD               0.0000000000                              0.0000000000\n",
       "              \n",
       "               {Thyroid disorder}\n",
       "  Non-Standard       0.0000000000\n",
       "  STANDARD           0.0067514931"
      ]
     },
     "metadata": {},
     "output_type": "display_data"
    },
    {
     "ename": "ERROR",
     "evalue": "Error in fisher.test(mytable): FEXACT error 7.\nLDSTP is too small for this problem.\nTry increasing the size of the workspace.\n",
     "output_type": "error",
     "traceback": [
      "Error in fisher.test(mytable): FEXACT error 7.\nLDSTP is too small for this problem.\nTry increasing the size of the workspace.\nTraceback:\n",
      "1. fisher.test(mytable)"
     ]
    }
   ],
   "source": [
    "mytable <- table(Reduce_ADD_DF$Label,Reduce_ADD_DF[,9])\n",
    "mytable\n",
    "prop.table(mytable,1)\n",
    "fisher.test(mytable)"
   ]
  },
  {
   "cell_type": "code",
   "execution_count": 44,
   "metadata": {},
   "outputs": [
    {
     "data": {
      "text/plain": [
       "              \n",
       "                 No  Yes\n",
       "  Non-Standard  371   89\n",
       "  STANDARD     2942   91"
      ]
     },
     "metadata": {},
     "output_type": "display_data"
    },
    {
     "data": {
      "text/plain": [
       "              \n",
       "                      No       Yes\n",
       "  Non-Standard 0.8065217 0.1934783\n",
       "  STANDARD     0.9699967 0.0300033"
      ]
     },
     "metadata": {},
     "output_type": "display_data"
    },
    {
     "data": {
      "text/plain": [
       "\n",
       "\tFisher's Exact Test for Count Data\n",
       "\n",
       "data:  mytable\n",
       "p-value < 2.2e-16\n",
       "alternative hypothesis: true odds ratio is not equal to 1\n",
       "95 percent confidence interval:\n",
       " 0.09332209 0.17844632\n",
       "sample estimates:\n",
       "odds ratio \n",
       " 0.1290764 \n"
      ]
     },
     "metadata": {},
     "output_type": "display_data"
    }
   ],
   "source": [
    "mytable <- table(Reduce_ADD_DF$Label,Reduce_ADD_DF[,10])\n",
    "mytable\n",
    "prop.table(mytable,1)\n",
    "fisher.test(mytable)"
   ]
  },
  {
   "cell_type": "code",
   "execution_count": 45,
   "metadata": {},
   "outputs": [
    {
     "data": {
      "text/plain": [
       "              \n",
       "               {Diving} {Diving}{Motor car or motor cycle racing}\n",
       "  Non-Standard        1                                         0\n",
       "  STANDARD           30                                         1\n",
       "              \n",
       "               {Diving}{Mountaineering or rock climbing}\n",
       "  Non-Standard                                         0\n",
       "  STANDARD                                             2\n",
       "              \n",
       "               {Diving}{Mountaineering or rock climbing}{Parachuting, skydiving or hang gliding}\n",
       "  Non-Standard                                                                                 0\n",
       "  STANDARD                                                                                     1\n",
       "              \n",
       "               {Diving}{Other} {Flying - other than as a fare paying passenger}\n",
       "  Non-Standard               0                                                0\n",
       "  STANDARD                   1                                                2\n",
       "              \n",
       "               {Motor car or motor cycle racing}\n",
       "  Non-Standard                                 2\n",
       "  STANDARD                                     2\n",
       "              \n",
       "               {Mountaineering or rock climbing} {None of these} {Other}\n",
       "  Non-Standard                                 1             561       8\n",
       "  STANDARD                                     7            6688      13\n",
       "              \n",
       "               {Parachuting, skydiving or hang gliding}\n",
       "  Non-Standard                                        1\n",
       "  STANDARD                                            0"
      ]
     },
     "metadata": {},
     "output_type": "display_data"
    },
    {
     "data": {
      "text/plain": [
       "              \n",
       "                  {Diving} {Diving}{Motor car or motor cycle racing}\n",
       "  Non-Standard 0.001742160                               0.000000000\n",
       "  STANDARD     0.004446421                               0.000148214\n",
       "              \n",
       "               {Diving}{Mountaineering or rock climbing}\n",
       "  Non-Standard                               0.000000000\n",
       "  STANDARD                                   0.000296428\n",
       "              \n",
       "               {Diving}{Mountaineering or rock climbing}{Parachuting, skydiving or hang gliding}\n",
       "  Non-Standard                                                                       0.000000000\n",
       "  STANDARD                                                                           0.000148214\n",
       "              \n",
       "               {Diving}{Other} {Flying - other than as a fare paying passenger}\n",
       "  Non-Standard     0.000000000                                      0.000000000\n",
       "  STANDARD         0.000148214                                      0.000296428\n",
       "              \n",
       "               {Motor car or motor cycle racing}\n",
       "  Non-Standard                       0.003484321\n",
       "  STANDARD                           0.000296428\n",
       "              \n",
       "               {Mountaineering or rock climbing} {None of these}     {Other}\n",
       "  Non-Standard                       0.001742160     0.977351916 0.013937282\n",
       "  STANDARD                           0.001037498     0.991255373 0.001926782\n",
       "              \n",
       "               {Parachuting, skydiving or hang gliding}\n",
       "  Non-Standard                              0.001742160\n",
       "  STANDARD                                  0.000000000"
      ]
     },
     "metadata": {},
     "output_type": "display_data"
    },
    {
     "data": {
      "text/plain": [
       "\n",
       "\tFisher's Exact Test for Count Data\n",
       "\n",
       "data:  mytable\n",
       "p-value = 0.00017\n",
       "alternative hypothesis: two.sided\n"
      ]
     },
     "metadata": {},
     "output_type": "display_data"
    }
   ],
   "source": [
    "mytable <- table(Reduce_ADD_DF$Label,Reduce_ADD_DF[,11])\n",
    "mytable\n",
    "prop.table(mytable,1)\n",
    "fisher.test(mytable)"
   ]
  },
  {
   "cell_type": "code",
   "execution_count": 46,
   "metadata": {},
   "outputs": [
    {
     "data": {
      "text/plain": [
       "              \n",
       "                 No  Yes\n",
       "  Non-Standard  109   30\n",
       "  STANDARD     3469  382"
      ]
     },
     "metadata": {},
     "output_type": "display_data"
    },
    {
     "data": {
      "text/plain": [
       "              \n",
       "                       No        Yes\n",
       "  Non-Standard 0.78417266 0.21582734\n",
       "  STANDARD     0.90080499 0.09919501"
      ]
     },
     "metadata": {},
     "output_type": "display_data"
    },
    {
     "data": {
      "text/plain": [
       "\n",
       "\tFisher's Exact Test for Count Data\n",
       "\n",
       "data:  mytable\n",
       "p-value = 8.428e-05\n",
       "alternative hypothesis: true odds ratio is not equal to 1\n",
       "95 percent confidence interval:\n",
       " 0.2609540 0.6299599\n",
       "sample estimates:\n",
       "odds ratio \n",
       "  0.400223 \n"
      ]
     },
     "metadata": {},
     "output_type": "display_data"
    }
   ],
   "source": [
    "mytable <- table(Reduce_ADD_DF$Label,Reduce_ADD_DF[,12])\n",
    "mytable\n",
    "prop.table(mytable,1)\n",
    "fisher.test(mytable)"
   ]
  },
  {
   "cell_type": "code",
   "execution_count": 47,
   "metadata": {},
   "outputs": [
    {
     "data": {
      "text/plain": [
       "              \n",
       "               1 - 5 per day 11 - 15 per day 16 - 20 per day 6 - 10 per day\n",
       "  Non-Standard            13               3               1             12\n",
       "  STANDARD               372              17               9            175\n",
       "              \n",
       "               Infrequent ( < 1 per day)\n",
       "  Non-Standard                       110\n",
       "  STANDARD                          3278"
      ]
     },
     "metadata": {},
     "output_type": "display_data"
    },
    {
     "data": {
      "text/plain": [
       "              \n",
       "               1 - 5 per day 11 - 15 per day 16 - 20 per day 6 - 10 per day\n",
       "  Non-Standard   0.093525180     0.021582734     0.007194245    0.086330935\n",
       "  STANDARD       0.096598286     0.004414438     0.002337055    0.045442742\n",
       "              \n",
       "               Infrequent ( < 1 per day)\n",
       "  Non-Standard               0.791366906\n",
       "  STANDARD                   0.851207479"
      ]
     },
     "metadata": {},
     "output_type": "display_data"
    },
    {
     "data": {
      "text/plain": [
       "\n",
       "\tFisher's Exact Test for Count Data\n",
       "\n",
       "data:  mytable\n",
       "p-value = 0.009814\n",
       "alternative hypothesis: two.sided\n"
      ]
     },
     "metadata": {},
     "output_type": "display_data"
    }
   ],
   "source": [
    "mytable <- table(Reduce_ADD_DF$Label,Reduce_ADD_DF[,13])\n",
    "mytable\n",
    "prop.table(mytable,1)\n",
    "fisher.test(mytable)"
   ]
  },
  {
   "cell_type": "code",
   "execution_count": 50,
   "metadata": {},
   "outputs": [
    {
     "data": {
      "text/plain": [
       "              \n",
       "                 No  Yes\n",
       "  Non-Standard  135    4\n",
       "  STANDARD     3814   37"
      ]
     },
     "metadata": {},
     "output_type": "display_data"
    },
    {
     "data": {
      "text/plain": [
       "              \n",
       "                        No         Yes\n",
       "  Non-Standard 0.971223022 0.028776978\n",
       "  STANDARD     0.990392106 0.009607894"
      ]
     },
     "metadata": {},
     "output_type": "display_data"
    },
    {
     "data": {
      "text/plain": [
       "\n",
       "\tFisher's Exact Test for Count Data\n",
       "\n",
       "data:  mytable\n",
       "p-value = 0.05278\n",
       "alternative hypothesis: true odds ratio is not equal to 1\n",
       "95 percent confidence interval:\n",
       " 0.115247 1.283214\n",
       "sample estimates:\n",
       "odds ratio \n",
       " 0.3275699 \n"
      ]
     },
     "metadata": {},
     "output_type": "display_data"
    }
   ],
   "source": [
    "mytable <- table(Reduce_ADD_DF$Label,Reduce_ADD_DF[,14])\n",
    "mytable\n",
    "prop.table(mytable,1)\n",
    "fisher.test(mytable)"
   ]
  },
  {
   "cell_type": "code",
   "execution_count": 52,
   "metadata": {},
   "outputs": [
    {
     "data": {
      "text/plain": [
       "              \n",
       "                 No  Yes\n",
       "  Non-Standard  133    6\n",
       "  STANDARD     3815   36"
      ]
     },
     "metadata": {},
     "output_type": "display_data"
    },
    {
     "data": {
      "text/plain": [
       "              \n",
       "                        No         Yes\n",
       "  Non-Standard 0.956834532 0.043165468\n",
       "  STANDARD     0.990651779 0.009348221"
      ]
     },
     "metadata": {},
     "output_type": "display_data"
    },
    {
     "data": {
      "text/plain": [
       "\n",
       "\tFisher's Exact Test for Count Data\n",
       "\n",
       "data:  mytable\n",
       "p-value = 0.002991\n",
       "alternative hypothesis: true odds ratio is not equal to 1\n",
       "95 percent confidence interval:\n",
       " 0.08536233 0.61840856\n",
       "sample estimates:\n",
       "odds ratio \n",
       " 0.2093655 \n"
      ]
     },
     "metadata": {},
     "output_type": "display_data"
    }
   ],
   "source": [
    "mytable <- table(Reduce_ADD_DF$Label,Reduce_ADD_DF[,15])\n",
    "mytable\n",
    "prop.table(mytable,1)\n",
    "fisher.test(mytable)\n"
   ]
  },
  {
   "cell_type": "code",
   "execution_count": 53,
   "metadata": {},
   "outputs": [
    {
     "data": {
      "text/plain": [
       "              \n",
       "                 No  Yes\n",
       "  Non-Standard  126   13\n",
       "  STANDARD     3805   46"
      ]
     },
     "metadata": {},
     "output_type": "display_data"
    },
    {
     "data": {
      "text/plain": [
       "              \n",
       "                       No        Yes\n",
       "  Non-Standard 0.90647482 0.09352518\n",
       "  STANDARD     0.98805505 0.01194495"
      ]
     },
     "metadata": {},
     "output_type": "display_data"
    },
    {
     "data": {
      "text/plain": [
       "\n",
       "\tFisher's Exact Test for Count Data\n",
       "\n",
       "data:  mytable\n",
       "p-value = 6.507e-08\n",
       "alternative hypothesis: true odds ratio is not equal to 1\n",
       "95 percent confidence interval:\n",
       " 0.06042928 0.24290782\n",
       "sample estimates:\n",
       "odds ratio \n",
       " 0.1173361 \n"
      ]
     },
     "metadata": {},
     "output_type": "display_data"
    }
   ],
   "source": [
    "mytable <- table(Reduce_ADD_DF$Label,Reduce_ADD_DF[,16])\n",
    "mytable\n",
    "prop.table(mytable,1)\n",
    "fisher.test(mytable)\n"
   ]
  },
  {
   "cell_type": "code",
   "execution_count": 57,
   "metadata": {},
   "outputs": [
    {
     "data": {
      "text/plain": [
       "              \n",
       "                 No  Yes\n",
       "  Non-Standard  129   10\n",
       "  STANDARD     3745  106"
      ]
     },
     "metadata": {},
     "output_type": "display_data"
    },
    {
     "data": {
      "text/plain": [
       "              \n",
       "                       No        Yes\n",
       "  Non-Standard 0.92805755 0.07194245\n",
       "  STANDARD     0.97247468 0.02752532"
      ]
     },
     "metadata": {},
     "output_type": "display_data"
    },
    {
     "data": {
      "text/plain": [
       "\n",
       "\tFisher's Exact Test for Count Data\n",
       "\n",
       "data:  mytable\n",
       "p-value = 0.006633\n",
       "alternative hypothesis: true odds ratio is not equal to 1\n",
       "95 percent confidence interval:\n",
       " 0.1852210 0.8023948\n",
       "sample estimates:\n",
       "odds ratio \n",
       " 0.3652723 \n"
      ]
     },
     "metadata": {},
     "output_type": "display_data"
    }
   ],
   "source": [
    "mytable <- table(Reduce_ADD_DF$Label,Reduce_ADD_DF[,18])\n",
    "mytable\n",
    "prop.table(mytable,1)\n",
    "fisher.test(mytable)"
   ]
  },
  {
   "cell_type": "code",
   "execution_count": 58,
   "metadata": {},
   "outputs": [
    {
     "data": {
      "text/plain": [
       "              \n",
       "                 No  Yes\n",
       "  Non-Standard  126    6\n",
       "  STANDARD     3708   31"
      ]
     },
     "metadata": {},
     "output_type": "display_data"
    },
    {
     "data": {
      "text/plain": [
       "              \n",
       "                        No         Yes\n",
       "  Non-Standard 0.954545455 0.045454545\n",
       "  STANDARD     0.991709013 0.008290987"
      ]
     },
     "metadata": {},
     "output_type": "display_data"
    },
    {
     "data": {
      "text/plain": [
       "\n",
       "\tFisher's Exact Test for Count Data\n",
       "\n",
       "data:  mytable\n",
       "p-value = 0.001366\n",
       "alternative hypothesis: true odds ratio is not equal to 1\n",
       "95 percent confidence interval:\n",
       " 0.07049457 0.52467331\n",
       "sample estimates:\n",
       "odds ratio \n",
       " 0.1757552 \n"
      ]
     },
     "metadata": {},
     "output_type": "display_data"
    }
   ],
   "source": [
    "library(rpart)\n",
    "mytable <- table(Reduce_ADD_DF$Label,Reduce_ADD_DF[,19])\n",
    "mytable\n",
    "prop.table(mytable,1)\n",
    "fisher.test(mytable)"
   ]
  },
  {
   "cell_type": "code",
   "execution_count": 63,
   "metadata": {},
   "outputs": [
    {
     "data": {
      "text/plain": [
       "              \n",
       "                 No  Yes\n",
       "  Non-Standard  437   23\n",
       "  STANDARD     2813  220"
      ]
     },
     "metadata": {},
     "output_type": "display_data"
    },
    {
     "data": {
      "text/plain": [
       "              \n",
       "                       No        Yes\n",
       "  Non-Standard 0.95000000 0.05000000\n",
       "  STANDARD     0.92746456 0.07253544"
      ]
     },
     "metadata": {},
     "output_type": "display_data"
    },
    {
     "data": {
      "text/plain": [
       "\n",
       "\tFisher's Exact Test for Count Data\n",
       "\n",
       "data:  mytable\n",
       "p-value = 0.07723\n",
       "alternative hypothesis: true odds ratio is not equal to 1\n",
       "95 percent confidence interval:\n",
       " 0.9516645 2.4219100\n",
       "sample estimates:\n",
       "odds ratio \n",
       "  1.485803 \n"
      ]
     },
     "metadata": {},
     "output_type": "display_data"
    }
   ],
   "source": [
    "mytable <- table(Reduce_ADD_DF$Label,Reduce_ADD_DF[,23])\n",
    "mytable\n",
    "prop.table(mytable,1)\n",
    "fisher.test(mytable)"
   ]
  },
  {
   "cell_type": "code",
   "execution_count": 67,
   "metadata": {},
   "outputs": [
    {
     "data": {
      "text/plain": [
       "              \n",
       "               FALSE TRUE\n",
       "  Non-Standard   485  114\n",
       "  STANDARD      5860 1024"
      ]
     },
     "metadata": {},
     "output_type": "display_data"
    },
    {
     "data": {
      "text/plain": [
       "              \n",
       "                   FALSE      TRUE\n",
       "  Non-Standard 0.8096828 0.1903172\n",
       "  STANDARD     0.8512493 0.1487507"
      ]
     },
     "metadata": {},
     "output_type": "display_data"
    },
    {
     "data": {
      "text/plain": [
       "\n",
       "\tFisher's Exact Test for Count Data\n",
       "\n",
       "data:  mytable\n",
       "p-value = 0.007597\n",
       "alternative hypothesis: true odds ratio is not equal to 1\n",
       "95 percent confidence interval:\n",
       " 0.5981945 0.9298061\n",
       "sample estimates:\n",
       "odds ratio \n",
       " 0.7434612 \n"
      ]
     },
     "metadata": {},
     "output_type": "display_data"
    }
   ],
   "source": [
    "mytable <- table(Reduce_ADD_DF$Label,Reduce_ADD_DF[,27])\n",
    "mytable\n",
    "prop.table(mytable,1)\n",
    "fisher.test(mytable)"
   ]
  },
  {
   "cell_type": "code",
   "execution_count": 68,
   "metadata": {},
   "outputs": [
    {
     "data": {
      "text/plain": [
       "              \n",
       "                 No  Yes\n",
       "  Non-Standard  587   12\n",
       "  STANDARD     6493  391"
      ]
     },
     "metadata": {},
     "output_type": "display_data"
    },
    {
     "data": {
      "text/plain": [
       "              \n",
       "                       No        Yes\n",
       "  Non-Standard 0.97996661 0.02003339\n",
       "  STANDARD     0.94320163 0.05679837"
      ]
     },
     "metadata": {},
     "output_type": "display_data"
    },
    {
     "data": {
      "text/plain": [
       "\n",
       "\tFisher's Exact Test for Count Data\n",
       "\n",
       "data:  mytable\n",
       "p-value = 2.787e-05\n",
       "alternative hypothesis: true odds ratio is not equal to 1\n",
       "95 percent confidence interval:\n",
       " 1.653712 5.786239\n",
       "sample estimates:\n",
       "odds ratio \n",
       "  2.945416 \n"
      ]
     },
     "metadata": {},
     "output_type": "display_data"
    }
   ],
   "source": [
    "mytable <- table(Reduce_ADD_DF$Label,Reduce_ADD_DF[,28])\n",
    "mytable\n",
    "prop.table(mytable,1)\n",
    "fisher.test(mytable)"
   ]
  },
  {
   "cell_type": "code",
   "execution_count": 78,
   "metadata": {},
   "outputs": [
    {
     "data": {
      "text/plain": [
       "              \n",
       "                    000001786A 000002721N 000002753P 000003471N 000005186N\n",
       "  Non-Standard   45          0          0          0          0          0\n",
       "  STANDARD      445          3          1          1          3          1\n",
       "              \n",
       "               000005488N 000005574N 000005958N 000009364N 00000A3606\n",
       "  Non-Standard          0          0          0          0          0\n",
       "  STANDARD              1          1          1          1          1\n",
       "              \n",
       "               00000A5226 00000T2391 00000T2731 10767 13618 34309 46096 48676\n",
       "  Non-Standard          0          0          1     0     0     2     1     0\n",
       "  STANDARD              1          1          0     1     1     1     2     1\n",
       "              \n",
       "               58718 66713 67393 68769 72082 72341 76170 79295 79462 85562\n",
       "  Non-Standard     1     0     0     0     1     0     0     0     0     0\n",
       "  STANDARD         0     1     1     2     0     2     1     1     1     1\n",
       "              \n",
       "               unknown\n",
       "  Non-Standard     548\n",
       "  STANDARD        6407"
      ]
     },
     "metadata": {},
     "output_type": "display_data"
    },
    {
     "data": {
      "text/plain": [
       "              \n",
       "                              000001786A   000002721N   000002753P   000003471N\n",
       "  Non-Standard 0.0751252087 0.0000000000 0.0000000000 0.0000000000 0.0000000000\n",
       "  STANDARD     0.0646426496 0.0004357931 0.0001452644 0.0001452644 0.0004357931\n",
       "              \n",
       "                 000005186N   000005488N   000005574N   000005958N   000009364N\n",
       "  Non-Standard 0.0000000000 0.0000000000 0.0000000000 0.0000000000 0.0000000000\n",
       "  STANDARD     0.0001452644 0.0001452644 0.0001452644 0.0001452644 0.0001452644\n",
       "              \n",
       "                 00000A3606   00000A5226   00000T2391   00000T2731        10767\n",
       "  Non-Standard 0.0000000000 0.0000000000 0.0000000000 0.0016694491 0.0000000000\n",
       "  STANDARD     0.0001452644 0.0001452644 0.0001452644 0.0000000000 0.0001452644\n",
       "              \n",
       "                      13618        34309        46096        48676        58718\n",
       "  Non-Standard 0.0000000000 0.0033388982 0.0016694491 0.0000000000 0.0016694491\n",
       "  STANDARD     0.0001452644 0.0001452644 0.0002905288 0.0001452644 0.0000000000\n",
       "              \n",
       "                      66713        67393        68769        72082        72341\n",
       "  Non-Standard 0.0000000000 0.0000000000 0.0000000000 0.0016694491 0.0000000000\n",
       "  STANDARD     0.0001452644 0.0001452644 0.0002905288 0.0000000000 0.0002905288\n",
       "              \n",
       "                      76170        79295        79462        85562      unknown\n",
       "  Non-Standard 0.0000000000 0.0000000000 0.0000000000 0.0000000000 0.9148580968\n",
       "  STANDARD     0.0001452644 0.0001452644 0.0001452644 0.0001452644 0.9307088902"
      ]
     },
     "metadata": {},
     "output_type": "display_data"
    },
    {
     "data": {
      "text/plain": [
       "\n",
       "\tFisher's Exact Test for Count Data\n",
       "\n",
       "data:  mytable\n",
       "p-value = 0.05483\n",
       "alternative hypothesis: two.sided\n"
      ]
     },
     "metadata": {},
     "output_type": "display_data"
    }
   ],
   "source": [
    "mytable <- table(Reduce_ADD_DF$Label,Reduce_ADD_DF[,37])\n",
    "mytable\n",
    "prop.table(mytable,1)\n",
    "fisher.test(mytable)"
   ]
  },
  {
   "cell_type": "code",
   "execution_count": 80,
   "metadata": {},
   "outputs": [
    {
     "data": {
      "text/plain": [
       "              \n",
       "                    Gold  N/A Ordinary  Red Silver\n",
       "  Non-Standard   45    0  548        4    2      0\n",
       "  STANDARD      445    2 6407       22    3      5"
      ]
     },
     "metadata": {},
     "output_type": "display_data"
    },
    {
     "data": {
      "text/plain": [
       "              \n",
       "                                    Gold          N/A     Ordinary          Red\n",
       "  Non-Standard 0.0751252087 0.0000000000 0.9148580968 0.0066777963 0.0033388982\n",
       "  STANDARD     0.0646426496 0.0002905288 0.9307088902 0.0031958164 0.0004357931\n",
       "              \n",
       "                     Silver\n",
       "  Non-Standard 0.0000000000\n",
       "  STANDARD     0.0007263219"
      ]
     },
     "metadata": {},
     "output_type": "display_data"
    },
    {
     "data": {
      "text/plain": [
       "\n",
       "\tFisher's Exact Test for Count Data\n",
       "\n",
       "data:  mytable\n",
       "p-value = 0.08907\n",
       "alternative hypothesis: two.sided\n"
      ]
     },
     "metadata": {},
     "output_type": "display_data"
    }
   ],
   "source": [
    "mytable <- table(Reduce_ADD_DF$Label,Reduce_ADD_DF[,39])\n",
    "mytable\n",
    "prop.table(mytable,1)\n",
    "fisher.test(mytable)"
   ]
  },
  {
   "cell_type": "code",
   "execution_count": 81,
   "metadata": {},
   "outputs": [
    {
     "data": {
      "text/plain": [
       "              \n",
       "                    AATB AIAB\n",
       "  Non-Standard   45   36  518\n",
       "  STANDARD      445  982 5457"
      ]
     },
     "metadata": {},
     "output_type": "display_data"
    },
    {
     "data": {
      "text/plain": [
       "              \n",
       "                                AATB       AIAB\n",
       "  Non-Standard 0.07512521 0.06010017 0.86477462\n",
       "  STANDARD     0.06464265 0.14264962 0.79270773"
      ]
     },
     "metadata": {},
     "output_type": "display_data"
    },
    {
     "data": {
      "text/plain": [
       "\n",
       "\tFisher's Exact Test for Count Data\n",
       "\n",
       "data:  mytable\n",
       "p-value = 4.863e-09\n",
       "alternative hypothesis: two.sided\n"
      ]
     },
     "metadata": {},
     "output_type": "display_data"
    }
   ],
   "source": [
    "mytable <- table(Reduce_ADD_DF$Label,Reduce_ADD_DF[,40])\n",
    "mytable\n",
    "prop.table(mytable,1)\n",
    "fisher.test(mytable)"
   ]
  },
  {
   "cell_type": "code",
   "execution_count": 54,
   "metadata": {},
   "outputs": [
    {
     "data": {
      "text/plain": [
       "\n",
       "                               CR - COMPANY RULES GR - GEOGRAPHICAL RATING \n",
       "                     569                        1                        1 \n",
       "         OC - OCCUPATION   PF - PHYSICAL FINDINGS \n",
       "                      29                       24 "
      ]
     },
     "metadata": {},
     "output_type": "display_data"
    }
   ],
   "source": [
    "table(ADD_DF_NS$reason)"
   ]
  },
  {
   "cell_type": "code",
   "execution_count": 56,
   "metadata": {},
   "outputs": [
    {
     "data": {
      "text/html": [
       "<ol class=list-inline>\n",
       "\t<li>40180</li>\n",
       "\t<li>278</li>\n",
       "</ol>\n"
      ],
      "text/latex": [
       "\\begin{enumerate*}\n",
       "\\item 40180\n",
       "\\item 278\n",
       "\\end{enumerate*}\n"
      ],
      "text/markdown": [
       "1. 40180\n",
       "2. 278\n",
       "\n",
       "\n"
      ],
      "text/plain": [
       "[1] 40180   278"
      ]
     },
     "metadata": {},
     "output_type": "display_data"
    }
   ],
   "source": [
    "ADD_DF_ST <- ADD_DF[ADD_DF$Label == \"STANDARD\",]\n",
    "dim(ADD_DF_ST)"
   ]
  },
  {
   "cell_type": "code",
   "execution_count": 57,
   "metadata": {},
   "outputs": [
    {
     "data": {
      "text/plain": [
       "\n",
       "        100.00%  50.00% \n",
       "  40180       0       0 "
      ]
     },
     "metadata": {},
     "output_type": "display_data"
    }
   ],
   "source": [
    "table(ADD_DF_ST$rating)"
   ]
  },
  {
   "cell_type": "code",
   "execution_count": 58,
   "metadata": {},
   "outputs": [
    {
     "data": {
      "text/plain": [
       "\n",
       "                               CR - COMPANY RULES GR - GEOGRAPHICAL RATING \n",
       "                   40180                        0                        0 \n",
       "         OC - OCCUPATION   PF - PHYSICAL FINDINGS \n",
       "                       0                        0 "
      ]
     },
     "metadata": {},
     "output_type": "display_data"
    }
   ],
   "source": [
    "table(ADD_DF_ST$reason)"
   ]
  },
  {
   "cell_type": "code",
   "execution_count": 59,
   "metadata": {},
   "outputs": [
    {
     "data": {
      "text/plain": [
       "\n",
       "                                                           #N/A \n",
       "                              0                           18241 \n",
       "                         Diving Motor car or motor cycle racing \n",
       "                             31                               2 \n",
       "Mountaineering or rock climbing                            None \n",
       "                              3                           21899 \n",
       "                         Others \n",
       "                              4 "
      ]
     },
     "metadata": {},
     "output_type": "display_data"
    },
    {
     "data": {
      "text/plain": [
       "\n",
       "                                                           #N/A \n",
       "                              0                             313 \n",
       "                         Diving Motor car or motor cycle racing \n",
       "                              0                               1 \n",
       "Mountaineering or rock climbing                            None \n",
       "                              0                             306 \n",
       "                         Others \n",
       "                              4 "
      ]
     },
     "metadata": {},
     "output_type": "display_data"
    }
   ],
   "source": [
    "table(ADD_DF_ST$Avocation1)\n",
    "table(ADD_DF_NS$Avocation1)"
   ]
  },
  {
   "cell_type": "code",
   "execution_count": 60,
   "metadata": {},
   "outputs": [
    {
     "data": {
      "text/plain": [
       "\n",
       "         #N/A Diving Others \n",
       "     0  40176      3      1 "
      ]
     },
     "metadata": {},
     "output_type": "display_data"
    },
    {
     "data": {
      "text/plain": [
       "\n",
       "         #N/A Diving Others \n",
       "     0    624      0      0 "
      ]
     },
     "metadata": {},
     "output_type": "display_data"
    }
   ],
   "source": [
    "table(ADD_DF_ST$Avocation2)\n",
    "table(ADD_DF_NS$Avocation2)"
   ]
  },
  {
   "cell_type": "code",
   "execution_count": 61,
   "metadata": {},
   "outputs": [
    {
     "data": {
      "text/plain": [
       "\n",
       "        MYR \n",
       " 3286 36894 "
      ]
     },
     "metadata": {},
     "output_type": "display_data"
    },
    {
     "data": {
      "text/plain": [
       "\n",
       "    MYR \n",
       " 50 574 "
      ]
     },
     "metadata": {},
     "output_type": "display_data"
    }
   ],
   "source": [
    "table(ADD_DF_ST$plancurrency)\n",
    "table(ADD_DF_NS$plancurrency)"
   ]
  },
  {
   "cell_type": "code",
   "execution_count": 64,
   "metadata": {
    "collapsed": true
   },
   "outputs": [],
   "source": [
    "tree_model <- rpart(Label ~ rating+reason, ADD_DF)"
   ]
  },
  {
   "cell_type": "code",
   "execution_count": 65,
   "metadata": {},
   "outputs": [
    {
     "name": "stdout",
     "output_type": "stream",
     "text": [
      "Call:\n",
      "rpart(formula = Label ~ rating + reason, data = ADD_DF)\n",
      "  n= 43861 \n",
      "\n",
      "          CP nsplit rel error    xerror       xstd\n",
      "1 0.01494159      0 1.0000000 1.0000000 0.01577549\n",
      "2 0.01000000      1 0.9850584 0.9850584 0.01566790\n",
      "\n",
      "Variable importance\n",
      "rating \n",
      "   100 \n",
      "\n",
      "Node number 1: 43861 observations,    complexity param=0.01494159\n",
      "  predicted class=STANDARD      expected loss=0.08392422  P(node) =1\n",
      "    class counts:  3057   624 40180\n",
      "   probabilities: 0.070 0.014 0.916 \n",
      "  left son=2 (55 obs) right son=3 (43806 obs)\n",
      "  Primary splits:\n",
      "      rating splits as  RLL,   improve=99.99447, (0 missing)\n",
      "      reason splits as  RLLLL, improve=99.99447, (0 missing)\n",
      "\n",
      "Node number 2: 55 observations\n",
      "  predicted class=Non-Standard  expected loss=0  P(node) =0.001253961\n",
      "    class counts:     0    55     0\n",
      "   probabilities: 0.000 1.000 0.000 \n",
      "\n",
      "Node number 3: 43806 observations\n",
      "  predicted class=STANDARD      expected loss=0.08277405  P(node) =0.998746\n",
      "    class counts:  3057   569 40180\n",
      "   probabilities: 0.070 0.013 0.917 \n",
      "\n"
     ]
    }
   ],
   "source": [
    "summary(tree_model)"
   ]
  },
  {
   "cell_type": "code",
   "execution_count": null,
   "metadata": {
    "collapsed": true
   },
   "outputs": [],
   "source": []
  }
 ],
 "metadata": {
  "kernelspec": {
   "display_name": "Python 3",
   "language": "python",
   "name": "python3"
  },
  "language_info": {
   "codemirror_mode": "r",
   "file_extension": ".r",
   "mimetype": "text/x-r-source",
   "name": "R",
   "pygments_lexer": "r",
   "version": "3.3.2"
  }
 },
 "nbformat": 4,
 "nbformat_minor": 2
}
